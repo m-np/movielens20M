{
 "cells": [
  {
   "cell_type": "code",
   "execution_count": 1,
   "id": "ba937d4d",
   "metadata": {
    "_cell_guid": "b1076dfc-b9ad-4769-8c92-a6c4dae69d19",
    "_uuid": "8f2839f25d086af736a60e9eeb907d3b93b6e0e5",
    "execution": {
     "iopub.execute_input": "2024-03-03T05:42:25.060012Z",
     "iopub.status.busy": "2024-03-03T05:42:25.059301Z",
     "iopub.status.idle": "2024-03-03T05:42:35.323090Z",
     "shell.execute_reply": "2024-03-03T05:42:35.321898Z"
    },
    "papermill": {
     "duration": 10.272985,
     "end_time": "2024-03-03T05:42:35.325752",
     "exception": false,
     "start_time": "2024-03-03T05:42:25.052767",
     "status": "completed"
    },
    "tags": []
   },
   "outputs": [],
   "source": [
    "import numpy as np\n",
    "import pandas as pd\n",
    "from tqdm.notebook import tqdm\n",
    "\n",
    "import torch \n",
    "import torch.nn as nn\n",
    "from torch.utils.data import DataLoader, Dataset\n",
    "import pytorch_lightning as pl\n",
    "\n",
    "np.random.seed(123)"
   ]
  },
  {
   "cell_type": "code",
   "execution_count": 2,
   "id": "697d3e5c",
   "metadata": {
    "execution": {
     "iopub.execute_input": "2024-03-03T05:42:35.336768Z",
     "iopub.status.busy": "2024-03-03T05:42:35.335507Z",
     "iopub.status.idle": "2024-03-03T05:43:49.682861Z",
     "shell.execute_reply": "2024-03-03T05:43:49.681683Z"
    },
    "papermill": {
     "duration": 74.355258,
     "end_time": "2024-03-03T05:43:49.685501",
     "exception": false,
     "start_time": "2024-03-03T05:42:35.330243",
     "status": "completed"
    },
    "tags": []
   },
   "outputs": [],
   "source": [
    "ratings = pd.read_csv('/kaggle/input/movielens-20m-dataset/rating.csv',\n",
    "                     parse_dates=['timestamp'])"
   ]
  },
  {
   "cell_type": "code",
   "execution_count": 3,
   "id": "a6df766e",
   "metadata": {
    "execution": {
     "iopub.execute_input": "2024-03-03T05:43:49.696412Z",
     "iopub.status.busy": "2024-03-03T05:43:49.695190Z",
     "iopub.status.idle": "2024-03-03T05:43:49.715375Z",
     "shell.execute_reply": "2024-03-03T05:43:49.714459Z"
    },
    "papermill": {
     "duration": 0.027669,
     "end_time": "2024-03-03T05:43:49.717450",
     "exception": false,
     "start_time": "2024-03-03T05:43:49.689781",
     "status": "completed"
    },
    "tags": []
   },
   "outputs": [
    {
     "data": {
      "text/html": [
       "<div>\n",
       "<style scoped>\n",
       "    .dataframe tbody tr th:only-of-type {\n",
       "        vertical-align: middle;\n",
       "    }\n",
       "\n",
       "    .dataframe tbody tr th {\n",
       "        vertical-align: top;\n",
       "    }\n",
       "\n",
       "    .dataframe thead th {\n",
       "        text-align: right;\n",
       "    }\n",
       "</style>\n",
       "<table border=\"1\" class=\"dataframe\">\n",
       "  <thead>\n",
       "    <tr style=\"text-align: right;\">\n",
       "      <th></th>\n",
       "      <th>userId</th>\n",
       "      <th>movieId</th>\n",
       "      <th>rating</th>\n",
       "      <th>timestamp</th>\n",
       "    </tr>\n",
       "  </thead>\n",
       "  <tbody>\n",
       "    <tr>\n",
       "      <th>0</th>\n",
       "      <td>1</td>\n",
       "      <td>2</td>\n",
       "      <td>3.5</td>\n",
       "      <td>2005-04-02 23:53:47</td>\n",
       "    </tr>\n",
       "    <tr>\n",
       "      <th>1</th>\n",
       "      <td>1</td>\n",
       "      <td>29</td>\n",
       "      <td>3.5</td>\n",
       "      <td>2005-04-02 23:31:16</td>\n",
       "    </tr>\n",
       "    <tr>\n",
       "      <th>2</th>\n",
       "      <td>1</td>\n",
       "      <td>32</td>\n",
       "      <td>3.5</td>\n",
       "      <td>2005-04-02 23:33:39</td>\n",
       "    </tr>\n",
       "    <tr>\n",
       "      <th>3</th>\n",
       "      <td>1</td>\n",
       "      <td>47</td>\n",
       "      <td>3.5</td>\n",
       "      <td>2005-04-02 23:32:07</td>\n",
       "    </tr>\n",
       "    <tr>\n",
       "      <th>4</th>\n",
       "      <td>1</td>\n",
       "      <td>50</td>\n",
       "      <td>3.5</td>\n",
       "      <td>2005-04-02 23:29:40</td>\n",
       "    </tr>\n",
       "  </tbody>\n",
       "</table>\n",
       "</div>"
      ],
      "text/plain": [
       "   userId  movieId  rating           timestamp\n",
       "0       1        2     3.5 2005-04-02 23:53:47\n",
       "1       1       29     3.5 2005-04-02 23:31:16\n",
       "2       1       32     3.5 2005-04-02 23:33:39\n",
       "3       1       47     3.5 2005-04-02 23:32:07\n",
       "4       1       50     3.5 2005-04-02 23:29:40"
      ]
     },
     "execution_count": 3,
     "metadata": {},
     "output_type": "execute_result"
    }
   ],
   "source": [
    "ratings.head()"
   ]
  },
  {
   "cell_type": "code",
   "execution_count": 4,
   "id": "bbf5c799",
   "metadata": {
    "execution": {
     "iopub.execute_input": "2024-03-03T05:43:49.728575Z",
     "iopub.status.busy": "2024-03-03T05:43:49.727582Z",
     "iopub.status.idle": "2024-03-03T05:43:49.734103Z",
     "shell.execute_reply": "2024-03-03T05:43:49.733182Z"
    },
    "papermill": {
     "duration": 0.014465,
     "end_time": "2024-03-03T05:43:49.736080",
     "exception": false,
     "start_time": "2024-03-03T05:43:49.721615",
     "status": "completed"
    },
    "tags": []
   },
   "outputs": [
    {
     "data": {
      "text/plain": [
       "(20000263, 4)"
      ]
     },
     "execution_count": 4,
     "metadata": {},
     "output_type": "execute_result"
    }
   ],
   "source": [
    "ratings.shape"
   ]
  },
  {
   "cell_type": "code",
   "execution_count": 5,
   "id": "d8627782",
   "metadata": {
    "execution": {
     "iopub.execute_input": "2024-03-03T05:43:49.747688Z",
     "iopub.status.busy": "2024-03-03T05:43:49.746322Z",
     "iopub.status.idle": "2024-03-03T05:43:49.768460Z",
     "shell.execute_reply": "2024-03-03T05:43:49.766960Z"
    },
    "papermill": {
     "duration": 0.030569,
     "end_time": "2024-03-03T05:43:49.771013",
     "exception": false,
     "start_time": "2024-03-03T05:43:49.740444",
     "status": "completed"
    },
    "tags": []
   },
   "outputs": [
    {
     "name": "stdout",
     "output_type": "stream",
     "text": [
      "<class 'pandas.core.frame.DataFrame'>\n",
      "RangeIndex: 20000263 entries, 0 to 20000262\n",
      "Data columns (total 4 columns):\n",
      " #   Column     Dtype         \n",
      "---  ------     -----         \n",
      " 0   userId     int64         \n",
      " 1   movieId    int64         \n",
      " 2   rating     float64       \n",
      " 3   timestamp  datetime64[ns]\n",
      "dtypes: datetime64[ns](1), float64(1), int64(2)\n",
      "memory usage: 610.4 MB\n"
     ]
    }
   ],
   "source": [
    "ratings.info()"
   ]
  },
  {
   "cell_type": "code",
   "execution_count": 6,
   "id": "bebf453d",
   "metadata": {
    "execution": {
     "iopub.execute_input": "2024-03-03T05:43:49.782570Z",
     "iopub.status.busy": "2024-03-03T05:43:49.781868Z",
     "iopub.status.idle": "2024-03-03T05:43:50.430952Z",
     "shell.execute_reply": "2024-03-03T05:43:50.429255Z"
    },
    "papermill": {
     "duration": 0.657637,
     "end_time": "2024-03-03T05:43:50.433472",
     "exception": false,
     "start_time": "2024-03-03T05:43:49.775835",
     "status": "completed"
    },
    "tags": []
   },
   "outputs": [
    {
     "name": "stdout",
     "output_type": "stream",
     "text": [
      "There are 6027314 rows of data from 41547 users\n"
     ]
    }
   ],
   "source": [
    "rand_userIds = np.random.choice(ratings['userId'].unique(),\n",
    "                               size=int(len(ratings['userId'].unique())*0.3),\n",
    "                               replace=False)\n",
    "\n",
    "ratings = ratings.loc[ratings['userId'].isin(rand_userIds)]\n",
    "\n",
    "print('There are {} rows of data from {} users'.format(len(ratings),len(rand_userIds)))"
   ]
  },
  {
   "cell_type": "code",
   "execution_count": 7,
   "id": "5386be57",
   "metadata": {
    "execution": {
     "iopub.execute_input": "2024-03-03T05:43:50.444642Z",
     "iopub.status.busy": "2024-03-03T05:43:50.444276Z",
     "iopub.status.idle": "2024-03-03T05:43:50.451413Z",
     "shell.execute_reply": "2024-03-03T05:43:50.450180Z"
    },
    "papermill": {
     "duration": 0.015834,
     "end_time": "2024-03-03T05:43:50.454047",
     "exception": false,
     "start_time": "2024-03-03T05:43:50.438213",
     "status": "completed"
    },
    "tags": []
   },
   "outputs": [
    {
     "data": {
      "text/plain": [
       "(6027314, 4)"
      ]
     },
     "execution_count": 7,
     "metadata": {},
     "output_type": "execute_result"
    }
   ],
   "source": [
    "ratings.shape"
   ]
  },
  {
   "cell_type": "code",
   "execution_count": 8,
   "id": "e58fa57f",
   "metadata": {
    "execution": {
     "iopub.execute_input": "2024-03-03T05:43:50.466702Z",
     "iopub.status.busy": "2024-03-03T05:43:50.466340Z",
     "iopub.status.idle": "2024-03-03T05:43:50.759988Z",
     "shell.execute_reply": "2024-03-03T05:43:50.758699Z"
    },
    "papermill": {
     "duration": 0.303162,
     "end_time": "2024-03-03T05:43:50.762493",
     "exception": false,
     "start_time": "2024-03-03T05:43:50.459331",
     "status": "completed"
    },
    "tags": []
   },
   "outputs": [
    {
     "data": {
      "text/html": [
       "<div>\n",
       "<style scoped>\n",
       "    .dataframe tbody tr th:only-of-type {\n",
       "        vertical-align: middle;\n",
       "    }\n",
       "\n",
       "    .dataframe tbody tr th {\n",
       "        vertical-align: top;\n",
       "    }\n",
       "\n",
       "    .dataframe thead th {\n",
       "        text-align: right;\n",
       "    }\n",
       "</style>\n",
       "<table border=\"1\" class=\"dataframe\">\n",
       "  <thead>\n",
       "    <tr style=\"text-align: right;\">\n",
       "      <th></th>\n",
       "      <th>userId</th>\n",
       "      <th>movieId</th>\n",
       "      <th>rating</th>\n",
       "      <th>timestamp</th>\n",
       "    </tr>\n",
       "  </thead>\n",
       "  <tbody>\n",
       "    <tr>\n",
       "      <th>3840312</th>\n",
       "      <td>26182</td>\n",
       "      <td>3704</td>\n",
       "      <td>4.0</td>\n",
       "      <td>2007-01-31 21:56:52</td>\n",
       "    </tr>\n",
       "    <tr>\n",
       "      <th>7608731</th>\n",
       "      <td>52439</td>\n",
       "      <td>3365</td>\n",
       "      <td>4.0</td>\n",
       "      <td>2004-03-21 08:02:56</td>\n",
       "    </tr>\n",
       "    <tr>\n",
       "      <th>19363634</th>\n",
       "      <td>134060</td>\n",
       "      <td>1027</td>\n",
       "      <td>3.0</td>\n",
       "      <td>2003-07-15 22:43:45</td>\n",
       "    </tr>\n",
       "    <tr>\n",
       "      <th>17181947</th>\n",
       "      <td>118860</td>\n",
       "      <td>2629</td>\n",
       "      <td>1.0</td>\n",
       "      <td>2007-11-29 21:27:08</td>\n",
       "    </tr>\n",
       "    <tr>\n",
       "      <th>9344779</th>\n",
       "      <td>64638</td>\n",
       "      <td>4723</td>\n",
       "      <td>2.0</td>\n",
       "      <td>2001-09-10 20:11:41</td>\n",
       "    </tr>\n",
       "    <tr>\n",
       "      <th>10356404</th>\n",
       "      <td>71637</td>\n",
       "      <td>3882</td>\n",
       "      <td>0.5</td>\n",
       "      <td>2004-02-20 01:48:53</td>\n",
       "    </tr>\n",
       "    <tr>\n",
       "      <th>962965</th>\n",
       "      <td>6460</td>\n",
       "      <td>11</td>\n",
       "      <td>4.0</td>\n",
       "      <td>1996-10-22 12:53:32</td>\n",
       "    </tr>\n",
       "    <tr>\n",
       "      <th>12014375</th>\n",
       "      <td>82949</td>\n",
       "      <td>54001</td>\n",
       "      <td>4.5</td>\n",
       "      <td>2010-08-06 16:39:25</td>\n",
       "    </tr>\n",
       "    <tr>\n",
       "      <th>10532053</th>\n",
       "      <td>72855</td>\n",
       "      <td>7158</td>\n",
       "      <td>2.5</td>\n",
       "      <td>2011-07-25 01:07:58</td>\n",
       "    </tr>\n",
       "    <tr>\n",
       "      <th>18710288</th>\n",
       "      <td>129551</td>\n",
       "      <td>1228</td>\n",
       "      <td>4.5</td>\n",
       "      <td>2007-06-28 00:17:42</td>\n",
       "    </tr>\n",
       "  </tbody>\n",
       "</table>\n",
       "</div>"
      ],
      "text/plain": [
       "          userId  movieId  rating           timestamp\n",
       "3840312    26182     3704     4.0 2007-01-31 21:56:52\n",
       "7608731    52439     3365     4.0 2004-03-21 08:02:56\n",
       "19363634  134060     1027     3.0 2003-07-15 22:43:45\n",
       "17181947  118860     2629     1.0 2007-11-29 21:27:08\n",
       "9344779    64638     4723     2.0 2001-09-10 20:11:41\n",
       "10356404   71637     3882     0.5 2004-02-20 01:48:53\n",
       "962965      6460       11     4.0 1996-10-22 12:53:32\n",
       "12014375   82949    54001     4.5 2010-08-06 16:39:25\n",
       "10532053   72855     7158     2.5 2011-07-25 01:07:58\n",
       "18710288  129551     1228     4.5 2007-06-28 00:17:42"
      ]
     },
     "execution_count": 8,
     "metadata": {},
     "output_type": "execute_result"
    }
   ],
   "source": [
    "ratings.sample(10)"
   ]
  },
  {
   "cell_type": "code",
   "execution_count": 9,
   "id": "908167b4",
   "metadata": {
    "execution": {
     "iopub.execute_input": "2024-03-03T05:43:50.775277Z",
     "iopub.status.busy": "2024-03-03T05:43:50.774795Z",
     "iopub.status.idle": "2024-03-03T05:43:52.073230Z",
     "shell.execute_reply": "2024-03-03T05:43:52.071979Z"
    },
    "papermill": {
     "duration": 1.308387,
     "end_time": "2024-03-03T05:43:52.076154",
     "exception": false,
     "start_time": "2024-03-03T05:43:50.767767",
     "status": "completed"
    },
    "tags": []
   },
   "outputs": [],
   "source": [
    "ratings['rank_latest'] = ratings.groupby(['userId'])['timestamp'] \\\n",
    "                                .rank(method = 'first',ascending=False)"
   ]
  },
  {
   "cell_type": "code",
   "execution_count": 10,
   "id": "8ff7bced",
   "metadata": {
    "execution": {
     "iopub.execute_input": "2024-03-03T05:43:52.088549Z",
     "iopub.status.busy": "2024-03-03T05:43:52.088170Z",
     "iopub.status.idle": "2024-03-03T05:43:52.101788Z",
     "shell.execute_reply": "2024-03-03T05:43:52.100598Z"
    },
    "papermill": {
     "duration": 0.023038,
     "end_time": "2024-03-03T05:43:52.104498",
     "exception": false,
     "start_time": "2024-03-03T05:43:52.081460",
     "status": "completed"
    },
    "tags": []
   },
   "outputs": [
    {
     "data": {
      "text/html": [
       "<div>\n",
       "<style scoped>\n",
       "    .dataframe tbody tr th:only-of-type {\n",
       "        vertical-align: middle;\n",
       "    }\n",
       "\n",
       "    .dataframe tbody tr th {\n",
       "        vertical-align: top;\n",
       "    }\n",
       "\n",
       "    .dataframe thead th {\n",
       "        text-align: right;\n",
       "    }\n",
       "</style>\n",
       "<table border=\"1\" class=\"dataframe\">\n",
       "  <thead>\n",
       "    <tr style=\"text-align: right;\">\n",
       "      <th></th>\n",
       "      <th>userId</th>\n",
       "      <th>movieId</th>\n",
       "      <th>rating</th>\n",
       "      <th>timestamp</th>\n",
       "      <th>rank_latest</th>\n",
       "    </tr>\n",
       "  </thead>\n",
       "  <tbody>\n",
       "    <tr>\n",
       "      <th>236</th>\n",
       "      <td>3</td>\n",
       "      <td>1</td>\n",
       "      <td>4.0</td>\n",
       "      <td>1999-12-11 13:36:47</td>\n",
       "      <td>81.0</td>\n",
       "    </tr>\n",
       "    <tr>\n",
       "      <th>237</th>\n",
       "      <td>3</td>\n",
       "      <td>24</td>\n",
       "      <td>3.0</td>\n",
       "      <td>1999-12-14 12:54:08</td>\n",
       "      <td>10.0</td>\n",
       "    </tr>\n",
       "    <tr>\n",
       "      <th>238</th>\n",
       "      <td>3</td>\n",
       "      <td>32</td>\n",
       "      <td>4.0</td>\n",
       "      <td>1999-12-11 13:14:07</td>\n",
       "      <td>140.0</td>\n",
       "    </tr>\n",
       "    <tr>\n",
       "      <th>239</th>\n",
       "      <td>3</td>\n",
       "      <td>50</td>\n",
       "      <td>5.0</td>\n",
       "      <td>1999-12-11 13:13:38</td>\n",
       "      <td>143.0</td>\n",
       "    </tr>\n",
       "    <tr>\n",
       "      <th>240</th>\n",
       "      <td>3</td>\n",
       "      <td>160</td>\n",
       "      <td>3.0</td>\n",
       "      <td>1999-12-14 12:54:08</td>\n",
       "      <td>11.0</td>\n",
       "    </tr>\n",
       "  </tbody>\n",
       "</table>\n",
       "</div>"
      ],
      "text/plain": [
       "     userId  movieId  rating           timestamp  rank_latest\n",
       "236       3        1     4.0 1999-12-11 13:36:47         81.0\n",
       "237       3       24     3.0 1999-12-14 12:54:08         10.0\n",
       "238       3       32     4.0 1999-12-11 13:14:07        140.0\n",
       "239       3       50     5.0 1999-12-11 13:13:38        143.0\n",
       "240       3      160     3.0 1999-12-14 12:54:08         11.0"
      ]
     },
     "execution_count": 10,
     "metadata": {},
     "output_type": "execute_result"
    }
   ],
   "source": [
    "ratings.head()"
   ]
  },
  {
   "cell_type": "code",
   "execution_count": 11,
   "id": "fb7ab7e8",
   "metadata": {
    "execution": {
     "iopub.execute_input": "2024-03-03T05:43:52.117699Z",
     "iopub.status.busy": "2024-03-03T05:43:52.117314Z",
     "iopub.status.idle": "2024-03-03T05:43:52.502054Z",
     "shell.execute_reply": "2024-03-03T05:43:52.500719Z"
    },
    "papermill": {
     "duration": 0.394426,
     "end_time": "2024-03-03T05:43:52.504834",
     "exception": false,
     "start_time": "2024-03-03T05:43:52.110408",
     "status": "completed"
    },
    "tags": []
   },
   "outputs": [],
   "source": [
    "train_ratings = ratings[ratings['rank_latest'] != 1]\n",
    "test_ratings = ratings[ratings['rank_latest'] == 1]\n",
    "\n",
    "# drop columns that we no Longer need \n",
    "train_ratings = train_ratings[['userId', 'movieId', 'rating']]\n",
    "test_ratings = test_ratings[['userId','movieId','rating']]"
   ]
  },
  {
   "cell_type": "code",
   "execution_count": 12,
   "id": "bb241454",
   "metadata": {
    "execution": {
     "iopub.execute_input": "2024-03-03T05:43:52.518294Z",
     "iopub.status.busy": "2024-03-03T05:43:52.517478Z",
     "iopub.status.idle": "2024-03-03T05:43:52.531441Z",
     "shell.execute_reply": "2024-03-03T05:43:52.530348Z"
    },
    "papermill": {
     "duration": 0.023232,
     "end_time": "2024-03-03T05:43:52.533642",
     "exception": false,
     "start_time": "2024-03-03T05:43:52.510410",
     "status": "completed"
    },
    "tags": []
   },
   "outputs": [
    {
     "data": {
      "text/html": [
       "<div>\n",
       "<style scoped>\n",
       "    .dataframe tbody tr th:only-of-type {\n",
       "        vertical-align: middle;\n",
       "    }\n",
       "\n",
       "    .dataframe tbody tr th {\n",
       "        vertical-align: top;\n",
       "    }\n",
       "\n",
       "    .dataframe thead th {\n",
       "        text-align: right;\n",
       "    }\n",
       "</style>\n",
       "<table border=\"1\" class=\"dataframe\">\n",
       "  <thead>\n",
       "    <tr style=\"text-align: right;\">\n",
       "      <th></th>\n",
       "      <th>userId</th>\n",
       "      <th>movieId</th>\n",
       "      <th>rating</th>\n",
       "      <th>timestamp</th>\n",
       "      <th>rank_latest</th>\n",
       "    </tr>\n",
       "  </thead>\n",
       "  <tbody>\n",
       "    <tr>\n",
       "      <th>236</th>\n",
       "      <td>3</td>\n",
       "      <td>1</td>\n",
       "      <td>4.0</td>\n",
       "      <td>1999-12-11 13:36:47</td>\n",
       "      <td>81.0</td>\n",
       "    </tr>\n",
       "    <tr>\n",
       "      <th>237</th>\n",
       "      <td>3</td>\n",
       "      <td>24</td>\n",
       "      <td>3.0</td>\n",
       "      <td>1999-12-14 12:54:08</td>\n",
       "      <td>10.0</td>\n",
       "    </tr>\n",
       "    <tr>\n",
       "      <th>238</th>\n",
       "      <td>3</td>\n",
       "      <td>32</td>\n",
       "      <td>4.0</td>\n",
       "      <td>1999-12-11 13:14:07</td>\n",
       "      <td>140.0</td>\n",
       "    </tr>\n",
       "    <tr>\n",
       "      <th>239</th>\n",
       "      <td>3</td>\n",
       "      <td>50</td>\n",
       "      <td>5.0</td>\n",
       "      <td>1999-12-11 13:13:38</td>\n",
       "      <td>143.0</td>\n",
       "    </tr>\n",
       "    <tr>\n",
       "      <th>240</th>\n",
       "      <td>3</td>\n",
       "      <td>160</td>\n",
       "      <td>3.0</td>\n",
       "      <td>1999-12-14 12:54:08</td>\n",
       "      <td>11.0</td>\n",
       "    </tr>\n",
       "  </tbody>\n",
       "</table>\n",
       "</div>"
      ],
      "text/plain": [
       "     userId  movieId  rating           timestamp  rank_latest\n",
       "236       3        1     4.0 1999-12-11 13:36:47         81.0\n",
       "237       3       24     3.0 1999-12-14 12:54:08         10.0\n",
       "238       3       32     4.0 1999-12-11 13:14:07        140.0\n",
       "239       3       50     5.0 1999-12-11 13:13:38        143.0\n",
       "240       3      160     3.0 1999-12-14 12:54:08         11.0"
      ]
     },
     "execution_count": 12,
     "metadata": {},
     "output_type": "execute_result"
    }
   ],
   "source": [
    "ratings.head()"
   ]
  },
  {
   "cell_type": "code",
   "execution_count": 13,
   "id": "180a2443",
   "metadata": {
    "execution": {
     "iopub.execute_input": "2024-03-03T05:43:52.547092Z",
     "iopub.status.busy": "2024-03-03T05:43:52.546450Z",
     "iopub.status.idle": "2024-03-03T05:43:52.841165Z",
     "shell.execute_reply": "2024-03-03T05:43:52.839568Z"
    },
    "papermill": {
     "duration": 0.305079,
     "end_time": "2024-03-03T05:43:52.844292",
     "exception": false,
     "start_time": "2024-03-03T05:43:52.539213",
     "status": "completed"
    },
    "tags": []
   },
   "outputs": [
    {
     "data": {
      "text/html": [
       "<div>\n",
       "<style scoped>\n",
       "    .dataframe tbody tr th:only-of-type {\n",
       "        vertical-align: middle;\n",
       "    }\n",
       "\n",
       "    .dataframe tbody tr th {\n",
       "        vertical-align: top;\n",
       "    }\n",
       "\n",
       "    .dataframe thead th {\n",
       "        text-align: right;\n",
       "    }\n",
       "</style>\n",
       "<table border=\"1\" class=\"dataframe\">\n",
       "  <thead>\n",
       "    <tr style=\"text-align: right;\">\n",
       "      <th></th>\n",
       "      <th>userId</th>\n",
       "      <th>movieId</th>\n",
       "      <th>rating</th>\n",
       "    </tr>\n",
       "  </thead>\n",
       "  <tbody>\n",
       "    <tr>\n",
       "      <th>3411906</th>\n",
       "      <td>23263</td>\n",
       "      <td>5481</td>\n",
       "      <td>1.0</td>\n",
       "    </tr>\n",
       "    <tr>\n",
       "      <th>1815983</th>\n",
       "      <td>12245</td>\n",
       "      <td>5464</td>\n",
       "      <td>1.0</td>\n",
       "    </tr>\n",
       "    <tr>\n",
       "      <th>16198592</th>\n",
       "      <td>112109</td>\n",
       "      <td>6</td>\n",
       "      <td>1.0</td>\n",
       "    </tr>\n",
       "    <tr>\n",
       "      <th>13914487</th>\n",
       "      <td>96124</td>\n",
       "      <td>1247</td>\n",
       "      <td>1.0</td>\n",
       "    </tr>\n",
       "    <tr>\n",
       "      <th>1445807</th>\n",
       "      <td>9790</td>\n",
       "      <td>1690</td>\n",
       "      <td>1.0</td>\n",
       "    </tr>\n",
       "  </tbody>\n",
       "</table>\n",
       "</div>"
      ],
      "text/plain": [
       "          userId  movieId  rating\n",
       "3411906    23263     5481     1.0\n",
       "1815983    12245     5464     1.0\n",
       "16198592  112109        6     1.0\n",
       "13914487   96124     1247     1.0\n",
       "1445807     9790     1690     1.0"
      ]
     },
     "execution_count": 13,
     "metadata": {},
     "output_type": "execute_result"
    }
   ],
   "source": [
    "train_ratings.loc[:, 'rating'] = 1\n",
    "\n",
    "train_ratings.sample(5)"
   ]
  },
  {
   "cell_type": "code",
   "execution_count": 14,
   "id": "f999c63b",
   "metadata": {
    "execution": {
     "iopub.execute_input": "2024-03-03T05:43:52.860371Z",
     "iopub.status.busy": "2024-03-03T05:43:52.859988Z",
     "iopub.status.idle": "2024-03-03T05:43:52.865486Z",
     "shell.execute_reply": "2024-03-03T05:43:52.864193Z"
    },
    "papermill": {
     "duration": 0.017579,
     "end_time": "2024-03-03T05:43:52.868048",
     "exception": false,
     "start_time": "2024-03-03T05:43:52.850469",
     "status": "completed"
    },
    "tags": []
   },
   "outputs": [],
   "source": [
    "# # Get a list of all movie IDs\n",
    "# all_movieIds = ratings['movieId'].unique()\n",
    "\n",
    "# # Placeholfers that will hold the training data\n",
    "# users, items, labels = [], [], []\n",
    "\n",
    "# # This is the set of items that each usesr has interaction with\n",
    "# user_item_set = set(zip(train_ratings['userId'],train_ratings['movieId']))\n",
    "\n",
    "# # 4:1 ratio of negative to positive samples\n",
    "# num_negatives = 4\n",
    "\n",
    "# for (u, i) in tqdm(user_item_set):\n",
    "#     users.append(u)\n",
    "#     items.append(i)\n",
    "#     labels.append(1) # items that the user has interacted with are positive\n",
    "#     for _ in range(num_negatives):\n",
    "#         # randomly select an item\n",
    "#         negative_item = np.random.choice(all_movieIds)\n",
    "#         # check that the user has not interacted with this item\n",
    "#         while (u, negative_item) in user_item_set:\n",
    "#             negative_item = np.random.choice(all_movieIds)\n",
    "#         users.append(u)\n",
    "#         items.append(negative_item)\n",
    "#         labels.append(0) # items not interacted with are negative"
   ]
  },
  {
   "cell_type": "code",
   "execution_count": 15,
   "id": "e4533323",
   "metadata": {
    "execution": {
     "iopub.execute_input": "2024-03-03T05:43:52.883029Z",
     "iopub.status.busy": "2024-03-03T05:43:52.881881Z",
     "iopub.status.idle": "2024-03-03T05:43:52.892721Z",
     "shell.execute_reply": "2024-03-03T05:43:52.891253Z"
    },
    "papermill": {
     "duration": 0.020791,
     "end_time": "2024-03-03T05:43:52.895121",
     "exception": false,
     "start_time": "2024-03-03T05:43:52.874330",
     "status": "completed"
    },
    "tags": []
   },
   "outputs": [],
   "source": [
    "class MovieLens20MDataset(Dataset):\n",
    "    def __init__(self, user_ids, movie_ids, num_negatives= 4):\n",
    "        self.users, self.items, self.labels = self.get_dataset(user_ids, movie_ids, num_negatives)\n",
    "        \n",
    "    def __len__(self):\n",
    "        return len(self.users)\n",
    "    \n",
    "    def __getitem__ (self, idx):\n",
    "        return self.users[idx], self.items[idx], self.labels[idx]\n",
    "    \n",
    "    def get_dataset(self, user_ids, movie_ids, num_negatives):\n",
    "        # This is the set of items that each usesr has interaction with\n",
    "        user_item_set = set(zip(user_ids, movie_ids))\n",
    "        users, items, labels = [], [], []\n",
    "        all_movieIds = movie_ids.unique()\n",
    "        for (u, i) in tqdm(user_item_set):\n",
    "            users.append(u)\n",
    "            items.append(i)\n",
    "            labels.append(1) # items that the user has interacted with are positive\n",
    "            for _ in range(num_negatives):\n",
    "                # randomly select an item\n",
    "                negative_item = np.random.choice(all_movieIds)\n",
    "                # check that the user has not interacted with this item\n",
    "                while (u, negative_item) in user_item_set:\n",
    "                    negative_item = np.random.choice(all_movieIds)\n",
    "                users.append(u)\n",
    "                items.append(negative_item)\n",
    "                labels.append(0) # items not interacted with are negative\n",
    "        return torch.tensor(users), torch.tensor(items), torch.tensor(labels)\n",
    "        "
   ]
  },
  {
   "cell_type": "code",
   "execution_count": 16,
   "id": "62b8088d",
   "metadata": {
    "execution": {
     "iopub.execute_input": "2024-03-03T05:43:52.910446Z",
     "iopub.status.busy": "2024-03-03T05:43:52.910016Z",
     "iopub.status.idle": "2024-03-03T05:50:59.776911Z",
     "shell.execute_reply": "2024-03-03T05:50:59.775818Z"
    },
    "papermill": {
     "duration": 426.877302,
     "end_time": "2024-03-03T05:50:59.779471",
     "exception": false,
     "start_time": "2024-03-03T05:43:52.902169",
     "status": "completed"
    },
    "tags": []
   },
   "outputs": [
    {
     "data": {
      "application/vnd.jupyter.widget-view+json": {
       "model_id": "a11abd46f30a4e488474145a9cb8a8d7",
       "version_major": 2,
       "version_minor": 0
      },
      "text/plain": [
       "  0%|          | 0/5985767 [00:00<?, ?it/s]"
      ]
     },
     "metadata": {},
     "output_type": "display_data"
    },
    {
     "name": "stdout",
     "output_type": "stream",
     "text": [
      "0 torch.Size([]) torch.Size([])\n",
      "1 torch.Size([]) torch.Size([])\n",
      "2 torch.Size([]) torch.Size([])\n",
      "3 torch.Size([]) torch.Size([])\n"
     ]
    }
   ],
   "source": [
    "train_dataset = MovieLens20MDataset(train_ratings['userId'], train_ratings['movieId'])\n",
    "for i, sample in enumerate(train_dataset):\n",
    "    print(i, sample[0].size(), sample[1].size())\n",
    "\n",
    "    if i == 3:\n",
    "        break"
   ]
  },
  {
   "cell_type": "code",
   "execution_count": null,
   "id": "4a8505a5",
   "metadata": {
    "papermill": {
     "duration": 0.006075,
     "end_time": "2024-03-03T05:50:59.792170",
     "exception": false,
     "start_time": "2024-03-03T05:50:59.786095",
     "status": "completed"
    },
    "tags": []
   },
   "outputs": [],
   "source": []
  }
 ],
 "metadata": {
  "kaggle": {
   "accelerator": "none",
   "dataSources": [
    {
     "datasetId": 339,
     "sourceId": 77759,
     "sourceType": "datasetVersion"
    }
   ],
   "dockerImageVersionId": 30664,
   "isGpuEnabled": false,
   "isInternetEnabled": true,
   "language": "python",
   "sourceType": "notebook"
  },
  "kernelspec": {
   "display_name": "Python 3",
   "language": "python",
   "name": "python3"
  },
  "language_info": {
   "codemirror_mode": {
    "name": "ipython",
    "version": 3
   },
   "file_extension": ".py",
   "mimetype": "text/x-python",
   "name": "python",
   "nbconvert_exporter": "python",
   "pygments_lexer": "ipython3",
   "version": "3.10.13"
  },
  "papermill": {
   "default_parameters": {},
   "duration": 520.312892,
   "end_time": "2024-03-03T05:51:02.524250",
   "environment_variables": {},
   "exception": null,
   "input_path": "__notebook__.ipynb",
   "output_path": "__notebook__.ipynb",
   "parameters": {},
   "start_time": "2024-03-03T05:42:22.211358",
   "version": "2.5.0"
  },
  "widgets": {
   "application/vnd.jupyter.widget-state+json": {
    "state": {
     "16dac07a9a524e0d9b40caf0526ea647": {
      "model_module": "@jupyter-widgets/controls",
      "model_module_version": "1.5.0",
      "model_name": "HTMLModel",
      "state": {
       "_dom_classes": [],
       "_model_module": "@jupyter-widgets/controls",
       "_model_module_version": "1.5.0",
       "_model_name": "HTMLModel",
       "_view_count": null,
       "_view_module": "@jupyter-widgets/controls",
       "_view_module_version": "1.5.0",
       "_view_name": "HTMLView",
       "description": "",
       "description_tooltip": null,
       "layout": "IPY_MODEL_44858daa1069434d8ed919167ca0bd86",
       "placeholder": "​",
       "style": "IPY_MODEL_eca1c48a56ca4779b9deec7f9c8cf998",
       "value": "100%"
      }
     },
     "1fe620c0d2e74680980a3cbe5befe4a7": {
      "model_module": "@jupyter-widgets/base",
      "model_module_version": "1.2.0",
      "model_name": "LayoutModel",
      "state": {
       "_model_module": "@jupyter-widgets/base",
       "_model_module_version": "1.2.0",
       "_model_name": "LayoutModel",
       "_view_count": null,
       "_view_module": "@jupyter-widgets/base",
       "_view_module_version": "1.2.0",
       "_view_name": "LayoutView",
       "align_content": null,
       "align_items": null,
       "align_self": null,
       "border": null,
       "bottom": null,
       "display": null,
       "flex": null,
       "flex_flow": null,
       "grid_area": null,
       "grid_auto_columns": null,
       "grid_auto_flow": null,
       "grid_auto_rows": null,
       "grid_column": null,
       "grid_gap": null,
       "grid_row": null,
       "grid_template_areas": null,
       "grid_template_columns": null,
       "grid_template_rows": null,
       "height": null,
       "justify_content": null,
       "justify_items": null,
       "left": null,
       "margin": null,
       "max_height": null,
       "max_width": null,
       "min_height": null,
       "min_width": null,
       "object_fit": null,
       "object_position": null,
       "order": null,
       "overflow": null,
       "overflow_x": null,
       "overflow_y": null,
       "padding": null,
       "right": null,
       "top": null,
       "visibility": null,
       "width": null
      }
     },
     "29c06eec6eea468f98c531a4a39fe1b8": {
      "model_module": "@jupyter-widgets/controls",
      "model_module_version": "1.5.0",
      "model_name": "DescriptionStyleModel",
      "state": {
       "_model_module": "@jupyter-widgets/controls",
       "_model_module_version": "1.5.0",
       "_model_name": "DescriptionStyleModel",
       "_view_count": null,
       "_view_module": "@jupyter-widgets/base",
       "_view_module_version": "1.2.0",
       "_view_name": "StyleView",
       "description_width": ""
      }
     },
     "44858daa1069434d8ed919167ca0bd86": {
      "model_module": "@jupyter-widgets/base",
      "model_module_version": "1.2.0",
      "model_name": "LayoutModel",
      "state": {
       "_model_module": "@jupyter-widgets/base",
       "_model_module_version": "1.2.0",
       "_model_name": "LayoutModel",
       "_view_count": null,
       "_view_module": "@jupyter-widgets/base",
       "_view_module_version": "1.2.0",
       "_view_name": "LayoutView",
       "align_content": null,
       "align_items": null,
       "align_self": null,
       "border": null,
       "bottom": null,
       "display": null,
       "flex": null,
       "flex_flow": null,
       "grid_area": null,
       "grid_auto_columns": null,
       "grid_auto_flow": null,
       "grid_auto_rows": null,
       "grid_column": null,
       "grid_gap": null,
       "grid_row": null,
       "grid_template_areas": null,
       "grid_template_columns": null,
       "grid_template_rows": null,
       "height": null,
       "justify_content": null,
       "justify_items": null,
       "left": null,
       "margin": null,
       "max_height": null,
       "max_width": null,
       "min_height": null,
       "min_width": null,
       "object_fit": null,
       "object_position": null,
       "order": null,
       "overflow": null,
       "overflow_x": null,
       "overflow_y": null,
       "padding": null,
       "right": null,
       "top": null,
       "visibility": null,
       "width": null
      }
     },
     "6deeef88e99d465b8002d96ba1739b08": {
      "model_module": "@jupyter-widgets/controls",
      "model_module_version": "1.5.0",
      "model_name": "FloatProgressModel",
      "state": {
       "_dom_classes": [],
       "_model_module": "@jupyter-widgets/controls",
       "_model_module_version": "1.5.0",
       "_model_name": "FloatProgressModel",
       "_view_count": null,
       "_view_module": "@jupyter-widgets/controls",
       "_view_module_version": "1.5.0",
       "_view_name": "ProgressView",
       "bar_style": "success",
       "description": "",
       "description_tooltip": null,
       "layout": "IPY_MODEL_86fd3420475d4c45b30b23bad4111313",
       "max": 5985767.0,
       "min": 0.0,
       "orientation": "horizontal",
       "style": "IPY_MODEL_a0c506ae0dca4fd5a9c95c311943c833",
       "value": 5985767.0
      }
     },
     "7d234baf100249b0921e3451d92a0ad1": {
      "model_module": "@jupyter-widgets/base",
      "model_module_version": "1.2.0",
      "model_name": "LayoutModel",
      "state": {
       "_model_module": "@jupyter-widgets/base",
       "_model_module_version": "1.2.0",
       "_model_name": "LayoutModel",
       "_view_count": null,
       "_view_module": "@jupyter-widgets/base",
       "_view_module_version": "1.2.0",
       "_view_name": "LayoutView",
       "align_content": null,
       "align_items": null,
       "align_self": null,
       "border": null,
       "bottom": null,
       "display": null,
       "flex": null,
       "flex_flow": null,
       "grid_area": null,
       "grid_auto_columns": null,
       "grid_auto_flow": null,
       "grid_auto_rows": null,
       "grid_column": null,
       "grid_gap": null,
       "grid_row": null,
       "grid_template_areas": null,
       "grid_template_columns": null,
       "grid_template_rows": null,
       "height": null,
       "justify_content": null,
       "justify_items": null,
       "left": null,
       "margin": null,
       "max_height": null,
       "max_width": null,
       "min_height": null,
       "min_width": null,
       "object_fit": null,
       "object_position": null,
       "order": null,
       "overflow": null,
       "overflow_x": null,
       "overflow_y": null,
       "padding": null,
       "right": null,
       "top": null,
       "visibility": null,
       "width": null
      }
     },
     "86fd3420475d4c45b30b23bad4111313": {
      "model_module": "@jupyter-widgets/base",
      "model_module_version": "1.2.0",
      "model_name": "LayoutModel",
      "state": {
       "_model_module": "@jupyter-widgets/base",
       "_model_module_version": "1.2.0",
       "_model_name": "LayoutModel",
       "_view_count": null,
       "_view_module": "@jupyter-widgets/base",
       "_view_module_version": "1.2.0",
       "_view_name": "LayoutView",
       "align_content": null,
       "align_items": null,
       "align_self": null,
       "border": null,
       "bottom": null,
       "display": null,
       "flex": null,
       "flex_flow": null,
       "grid_area": null,
       "grid_auto_columns": null,
       "grid_auto_flow": null,
       "grid_auto_rows": null,
       "grid_column": null,
       "grid_gap": null,
       "grid_row": null,
       "grid_template_areas": null,
       "grid_template_columns": null,
       "grid_template_rows": null,
       "height": null,
       "justify_content": null,
       "justify_items": null,
       "left": null,
       "margin": null,
       "max_height": null,
       "max_width": null,
       "min_height": null,
       "min_width": null,
       "object_fit": null,
       "object_position": null,
       "order": null,
       "overflow": null,
       "overflow_x": null,
       "overflow_y": null,
       "padding": null,
       "right": null,
       "top": null,
       "visibility": null,
       "width": null
      }
     },
     "88825e8843a647339a99bcd3be0a211e": {
      "model_module": "@jupyter-widgets/controls",
      "model_module_version": "1.5.0",
      "model_name": "HTMLModel",
      "state": {
       "_dom_classes": [],
       "_model_module": "@jupyter-widgets/controls",
       "_model_module_version": "1.5.0",
       "_model_name": "HTMLModel",
       "_view_count": null,
       "_view_module": "@jupyter-widgets/controls",
       "_view_module_version": "1.5.0",
       "_view_name": "HTMLView",
       "description": "",
       "description_tooltip": null,
       "layout": "IPY_MODEL_7d234baf100249b0921e3451d92a0ad1",
       "placeholder": "​",
       "style": "IPY_MODEL_29c06eec6eea468f98c531a4a39fe1b8",
       "value": " 5985767/5985767 [06:30&lt;00:00, 18208.90it/s]"
      }
     },
     "a0c506ae0dca4fd5a9c95c311943c833": {
      "model_module": "@jupyter-widgets/controls",
      "model_module_version": "1.5.0",
      "model_name": "ProgressStyleModel",
      "state": {
       "_model_module": "@jupyter-widgets/controls",
       "_model_module_version": "1.5.0",
       "_model_name": "ProgressStyleModel",
       "_view_count": null,
       "_view_module": "@jupyter-widgets/base",
       "_view_module_version": "1.2.0",
       "_view_name": "StyleView",
       "bar_color": null,
       "description_width": ""
      }
     },
     "a11abd46f30a4e488474145a9cb8a8d7": {
      "model_module": "@jupyter-widgets/controls",
      "model_module_version": "1.5.0",
      "model_name": "HBoxModel",
      "state": {
       "_dom_classes": [],
       "_model_module": "@jupyter-widgets/controls",
       "_model_module_version": "1.5.0",
       "_model_name": "HBoxModel",
       "_view_count": null,
       "_view_module": "@jupyter-widgets/controls",
       "_view_module_version": "1.5.0",
       "_view_name": "HBoxView",
       "box_style": "",
       "children": [
        "IPY_MODEL_16dac07a9a524e0d9b40caf0526ea647",
        "IPY_MODEL_6deeef88e99d465b8002d96ba1739b08",
        "IPY_MODEL_88825e8843a647339a99bcd3be0a211e"
       ],
       "layout": "IPY_MODEL_1fe620c0d2e74680980a3cbe5befe4a7"
      }
     },
     "eca1c48a56ca4779b9deec7f9c8cf998": {
      "model_module": "@jupyter-widgets/controls",
      "model_module_version": "1.5.0",
      "model_name": "DescriptionStyleModel",
      "state": {
       "_model_module": "@jupyter-widgets/controls",
       "_model_module_version": "1.5.0",
       "_model_name": "DescriptionStyleModel",
       "_view_count": null,
       "_view_module": "@jupyter-widgets/base",
       "_view_module_version": "1.2.0",
       "_view_name": "StyleView",
       "description_width": ""
      }
     }
    },
    "version_major": 2,
    "version_minor": 0
   }
  }
 },
 "nbformat": 4,
 "nbformat_minor": 5
}
