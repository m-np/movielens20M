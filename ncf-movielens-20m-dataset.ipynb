{
 "cells": [
  {
   "cell_type": "code",
   "execution_count": 1,
   "id": "5508ecd1",
   "metadata": {
    "_cell_guid": "b1076dfc-b9ad-4769-8c92-a6c4dae69d19",
    "_uuid": "8f2839f25d086af736a60e9eeb907d3b93b6e0e5",
    "execution": {
     "iopub.execute_input": "2024-03-03T06:09:19.529655Z",
     "iopub.status.busy": "2024-03-03T06:09:19.529199Z",
     "iopub.status.idle": "2024-03-03T06:09:30.920353Z",
     "shell.execute_reply": "2024-03-03T06:09:30.919489Z"
    },
    "papermill": {
     "duration": 11.405222,
     "end_time": "2024-03-03T06:09:30.922951",
     "exception": false,
     "start_time": "2024-03-03T06:09:19.517729",
     "status": "completed"
    },
    "tags": []
   },
   "outputs": [],
   "source": [
    "import numpy as np\n",
    "import pandas as pd\n",
    "from tqdm.notebook import tqdm\n",
    "\n",
    "import torch \n",
    "import torch.nn as nn\n",
    "from torch.utils.data import DataLoader, Dataset\n",
    "import pytorch_lightning as pl\n",
    "\n",
    "np.random.seed(123)"
   ]
  },
  {
   "cell_type": "code",
   "execution_count": 2,
   "id": "a095b2a2",
   "metadata": {
    "execution": {
     "iopub.execute_input": "2024-03-03T06:09:30.943411Z",
     "iopub.status.busy": "2024-03-03T06:09:30.942509Z",
     "iopub.status.idle": "2024-03-03T06:10:40.525667Z",
     "shell.execute_reply": "2024-03-03T06:10:40.524705Z"
    },
    "papermill": {
     "duration": 69.596211,
     "end_time": "2024-03-03T06:10:40.528303",
     "exception": false,
     "start_time": "2024-03-03T06:09:30.932092",
     "status": "completed"
    },
    "tags": []
   },
   "outputs": [],
   "source": [
    "ratings = pd.read_csv('/kaggle/input/movielens-20m-dataset/rating.csv',\n",
    "                     parse_dates=['timestamp'])"
   ]
  },
  {
   "cell_type": "code",
   "execution_count": 3,
   "id": "def364ef",
   "metadata": {
    "execution": {
     "iopub.execute_input": "2024-03-03T06:10:40.548647Z",
     "iopub.status.busy": "2024-03-03T06:10:40.547994Z",
     "iopub.status.idle": "2024-03-03T06:10:40.566560Z",
     "shell.execute_reply": "2024-03-03T06:10:40.565761Z"
    },
    "papermill": {
     "duration": 0.031332,
     "end_time": "2024-03-03T06:10:40.568852",
     "exception": false,
     "start_time": "2024-03-03T06:10:40.537520",
     "status": "completed"
    },
    "tags": []
   },
   "outputs": [
    {
     "data": {
      "text/html": [
       "<div>\n",
       "<style scoped>\n",
       "    .dataframe tbody tr th:only-of-type {\n",
       "        vertical-align: middle;\n",
       "    }\n",
       "\n",
       "    .dataframe tbody tr th {\n",
       "        vertical-align: top;\n",
       "    }\n",
       "\n",
       "    .dataframe thead th {\n",
       "        text-align: right;\n",
       "    }\n",
       "</style>\n",
       "<table border=\"1\" class=\"dataframe\">\n",
       "  <thead>\n",
       "    <tr style=\"text-align: right;\">\n",
       "      <th></th>\n",
       "      <th>userId</th>\n",
       "      <th>movieId</th>\n",
       "      <th>rating</th>\n",
       "      <th>timestamp</th>\n",
       "    </tr>\n",
       "  </thead>\n",
       "  <tbody>\n",
       "    <tr>\n",
       "      <th>0</th>\n",
       "      <td>1</td>\n",
       "      <td>2</td>\n",
       "      <td>3.5</td>\n",
       "      <td>2005-04-02 23:53:47</td>\n",
       "    </tr>\n",
       "    <tr>\n",
       "      <th>1</th>\n",
       "      <td>1</td>\n",
       "      <td>29</td>\n",
       "      <td>3.5</td>\n",
       "      <td>2005-04-02 23:31:16</td>\n",
       "    </tr>\n",
       "    <tr>\n",
       "      <th>2</th>\n",
       "      <td>1</td>\n",
       "      <td>32</td>\n",
       "      <td>3.5</td>\n",
       "      <td>2005-04-02 23:33:39</td>\n",
       "    </tr>\n",
       "    <tr>\n",
       "      <th>3</th>\n",
       "      <td>1</td>\n",
       "      <td>47</td>\n",
       "      <td>3.5</td>\n",
       "      <td>2005-04-02 23:32:07</td>\n",
       "    </tr>\n",
       "    <tr>\n",
       "      <th>4</th>\n",
       "      <td>1</td>\n",
       "      <td>50</td>\n",
       "      <td>3.5</td>\n",
       "      <td>2005-04-02 23:29:40</td>\n",
       "    </tr>\n",
       "  </tbody>\n",
       "</table>\n",
       "</div>"
      ],
      "text/plain": [
       "   userId  movieId  rating           timestamp\n",
       "0       1        2     3.5 2005-04-02 23:53:47\n",
       "1       1       29     3.5 2005-04-02 23:31:16\n",
       "2       1       32     3.5 2005-04-02 23:33:39\n",
       "3       1       47     3.5 2005-04-02 23:32:07\n",
       "4       1       50     3.5 2005-04-02 23:29:40"
      ]
     },
     "execution_count": 3,
     "metadata": {},
     "output_type": "execute_result"
    }
   ],
   "source": [
    "ratings.head()"
   ]
  },
  {
   "cell_type": "code",
   "execution_count": 4,
   "id": "7a06ba09",
   "metadata": {
    "execution": {
     "iopub.execute_input": "2024-03-03T06:10:40.590280Z",
     "iopub.status.busy": "2024-03-03T06:10:40.589659Z",
     "iopub.status.idle": "2024-03-03T06:10:40.595307Z",
     "shell.execute_reply": "2024-03-03T06:10:40.594224Z"
    },
    "papermill": {
     "duration": 0.018568,
     "end_time": "2024-03-03T06:10:40.597595",
     "exception": false,
     "start_time": "2024-03-03T06:10:40.579027",
     "status": "completed"
    },
    "tags": []
   },
   "outputs": [
    {
     "data": {
      "text/plain": [
       "(20000263, 4)"
      ]
     },
     "execution_count": 4,
     "metadata": {},
     "output_type": "execute_result"
    }
   ],
   "source": [
    "ratings.shape"
   ]
  },
  {
   "cell_type": "code",
   "execution_count": 5,
   "id": "2a6eadf0",
   "metadata": {
    "execution": {
     "iopub.execute_input": "2024-03-03T06:10:40.618345Z",
     "iopub.status.busy": "2024-03-03T06:10:40.617964Z",
     "iopub.status.idle": "2024-03-03T06:10:40.638712Z",
     "shell.execute_reply": "2024-03-03T06:10:40.637322Z"
    },
    "papermill": {
     "duration": 0.034494,
     "end_time": "2024-03-03T06:10:40.641596",
     "exception": false,
     "start_time": "2024-03-03T06:10:40.607102",
     "status": "completed"
    },
    "tags": []
   },
   "outputs": [
    {
     "name": "stdout",
     "output_type": "stream",
     "text": [
      "<class 'pandas.core.frame.DataFrame'>\n",
      "RangeIndex: 20000263 entries, 0 to 20000262\n",
      "Data columns (total 4 columns):\n",
      " #   Column     Dtype         \n",
      "---  ------     -----         \n",
      " 0   userId     int64         \n",
      " 1   movieId    int64         \n",
      " 2   rating     float64       \n",
      " 3   timestamp  datetime64[ns]\n",
      "dtypes: datetime64[ns](1), float64(1), int64(2)\n",
      "memory usage: 610.4 MB\n"
     ]
    }
   ],
   "source": [
    "ratings.info()"
   ]
  },
  {
   "cell_type": "code",
   "execution_count": 6,
   "id": "3ddbe2c1",
   "metadata": {
    "execution": {
     "iopub.execute_input": "2024-03-03T06:10:40.662289Z",
     "iopub.status.busy": "2024-03-03T06:10:40.661878Z",
     "iopub.status.idle": "2024-03-03T06:10:41.268951Z",
     "shell.execute_reply": "2024-03-03T06:10:41.267937Z"
    },
    "papermill": {
     "duration": 0.620539,
     "end_time": "2024-03-03T06:10:41.271712",
     "exception": false,
     "start_time": "2024-03-03T06:10:40.651173",
     "status": "completed"
    },
    "tags": []
   },
   "outputs": [
    {
     "name": "stdout",
     "output_type": "stream",
     "text": [
      "There are 6027314 rows of data from 41547 users\n"
     ]
    }
   ],
   "source": [
    "rand_userIds = np.random.choice(ratings['userId'].unique(),\n",
    "                               size=int(len(ratings['userId'].unique())*0.3),\n",
    "                               replace=False)\n",
    "\n",
    "ratings = ratings.loc[ratings['userId'].isin(rand_userIds)]\n",
    "\n",
    "print('There are {} rows of data from {} users'.format(len(ratings),len(rand_userIds)))"
   ]
  },
  {
   "cell_type": "code",
   "execution_count": 7,
   "id": "1ff831cb",
   "metadata": {
    "execution": {
     "iopub.execute_input": "2024-03-03T06:10:41.293052Z",
     "iopub.status.busy": "2024-03-03T06:10:41.292686Z",
     "iopub.status.idle": "2024-03-03T06:10:41.299033Z",
     "shell.execute_reply": "2024-03-03T06:10:41.298061Z"
    },
    "papermill": {
     "duration": 0.020068,
     "end_time": "2024-03-03T06:10:41.301530",
     "exception": false,
     "start_time": "2024-03-03T06:10:41.281462",
     "status": "completed"
    },
    "tags": []
   },
   "outputs": [
    {
     "data": {
      "text/plain": [
       "(6027314, 4)"
      ]
     },
     "execution_count": 7,
     "metadata": {},
     "output_type": "execute_result"
    }
   ],
   "source": [
    "ratings.shape"
   ]
  },
  {
   "cell_type": "code",
   "execution_count": 8,
   "id": "c77ca395",
   "metadata": {
    "execution": {
     "iopub.execute_input": "2024-03-03T06:10:41.323945Z",
     "iopub.status.busy": "2024-03-03T06:10:41.323568Z",
     "iopub.status.idle": "2024-03-03T06:10:41.619682Z",
     "shell.execute_reply": "2024-03-03T06:10:41.618475Z"
    },
    "papermill": {
     "duration": 0.309628,
     "end_time": "2024-03-03T06:10:41.622086",
     "exception": false,
     "start_time": "2024-03-03T06:10:41.312458",
     "status": "completed"
    },
    "tags": []
   },
   "outputs": [
    {
     "data": {
      "text/html": [
       "<div>\n",
       "<style scoped>\n",
       "    .dataframe tbody tr th:only-of-type {\n",
       "        vertical-align: middle;\n",
       "    }\n",
       "\n",
       "    .dataframe tbody tr th {\n",
       "        vertical-align: top;\n",
       "    }\n",
       "\n",
       "    .dataframe thead th {\n",
       "        text-align: right;\n",
       "    }\n",
       "</style>\n",
       "<table border=\"1\" class=\"dataframe\">\n",
       "  <thead>\n",
       "    <tr style=\"text-align: right;\">\n",
       "      <th></th>\n",
       "      <th>userId</th>\n",
       "      <th>movieId</th>\n",
       "      <th>rating</th>\n",
       "      <th>timestamp</th>\n",
       "    </tr>\n",
       "  </thead>\n",
       "  <tbody>\n",
       "    <tr>\n",
       "      <th>3840312</th>\n",
       "      <td>26182</td>\n",
       "      <td>3704</td>\n",
       "      <td>4.0</td>\n",
       "      <td>2007-01-31 21:56:52</td>\n",
       "    </tr>\n",
       "    <tr>\n",
       "      <th>7608731</th>\n",
       "      <td>52439</td>\n",
       "      <td>3365</td>\n",
       "      <td>4.0</td>\n",
       "      <td>2004-03-21 08:02:56</td>\n",
       "    </tr>\n",
       "    <tr>\n",
       "      <th>19363634</th>\n",
       "      <td>134060</td>\n",
       "      <td>1027</td>\n",
       "      <td>3.0</td>\n",
       "      <td>2003-07-15 22:43:45</td>\n",
       "    </tr>\n",
       "    <tr>\n",
       "      <th>17181947</th>\n",
       "      <td>118860</td>\n",
       "      <td>2629</td>\n",
       "      <td>1.0</td>\n",
       "      <td>2007-11-29 21:27:08</td>\n",
       "    </tr>\n",
       "    <tr>\n",
       "      <th>9344779</th>\n",
       "      <td>64638</td>\n",
       "      <td>4723</td>\n",
       "      <td>2.0</td>\n",
       "      <td>2001-09-10 20:11:41</td>\n",
       "    </tr>\n",
       "    <tr>\n",
       "      <th>10356404</th>\n",
       "      <td>71637</td>\n",
       "      <td>3882</td>\n",
       "      <td>0.5</td>\n",
       "      <td>2004-02-20 01:48:53</td>\n",
       "    </tr>\n",
       "    <tr>\n",
       "      <th>962965</th>\n",
       "      <td>6460</td>\n",
       "      <td>11</td>\n",
       "      <td>4.0</td>\n",
       "      <td>1996-10-22 12:53:32</td>\n",
       "    </tr>\n",
       "    <tr>\n",
       "      <th>12014375</th>\n",
       "      <td>82949</td>\n",
       "      <td>54001</td>\n",
       "      <td>4.5</td>\n",
       "      <td>2010-08-06 16:39:25</td>\n",
       "    </tr>\n",
       "    <tr>\n",
       "      <th>10532053</th>\n",
       "      <td>72855</td>\n",
       "      <td>7158</td>\n",
       "      <td>2.5</td>\n",
       "      <td>2011-07-25 01:07:58</td>\n",
       "    </tr>\n",
       "    <tr>\n",
       "      <th>18710288</th>\n",
       "      <td>129551</td>\n",
       "      <td>1228</td>\n",
       "      <td>4.5</td>\n",
       "      <td>2007-06-28 00:17:42</td>\n",
       "    </tr>\n",
       "  </tbody>\n",
       "</table>\n",
       "</div>"
      ],
      "text/plain": [
       "          userId  movieId  rating           timestamp\n",
       "3840312    26182     3704     4.0 2007-01-31 21:56:52\n",
       "7608731    52439     3365     4.0 2004-03-21 08:02:56\n",
       "19363634  134060     1027     3.0 2003-07-15 22:43:45\n",
       "17181947  118860     2629     1.0 2007-11-29 21:27:08\n",
       "9344779    64638     4723     2.0 2001-09-10 20:11:41\n",
       "10356404   71637     3882     0.5 2004-02-20 01:48:53\n",
       "962965      6460       11     4.0 1996-10-22 12:53:32\n",
       "12014375   82949    54001     4.5 2010-08-06 16:39:25\n",
       "10532053   72855     7158     2.5 2011-07-25 01:07:58\n",
       "18710288  129551     1228     4.5 2007-06-28 00:17:42"
      ]
     },
     "execution_count": 8,
     "metadata": {},
     "output_type": "execute_result"
    }
   ],
   "source": [
    "ratings.sample(10)"
   ]
  },
  {
   "cell_type": "code",
   "execution_count": 9,
   "id": "1ed82d34",
   "metadata": {
    "execution": {
     "iopub.execute_input": "2024-03-03T06:10:41.644974Z",
     "iopub.status.busy": "2024-03-03T06:10:41.644282Z",
     "iopub.status.idle": "2024-03-03T06:10:42.876498Z",
     "shell.execute_reply": "2024-03-03T06:10:42.875281Z"
    },
    "papermill": {
     "duration": 1.24707,
     "end_time": "2024-03-03T06:10:42.879284",
     "exception": false,
     "start_time": "2024-03-03T06:10:41.632214",
     "status": "completed"
    },
    "tags": []
   },
   "outputs": [],
   "source": [
    "ratings['rank_latest'] = ratings.groupby(['userId'])['timestamp'] \\\n",
    "                                .rank(method = 'first',ascending=False)"
   ]
  },
  {
   "cell_type": "code",
   "execution_count": 10,
   "id": "f5ec1acf",
   "metadata": {
    "execution": {
     "iopub.execute_input": "2024-03-03T06:10:42.902498Z",
     "iopub.status.busy": "2024-03-03T06:10:42.901268Z",
     "iopub.status.idle": "2024-03-03T06:10:42.915657Z",
     "shell.execute_reply": "2024-03-03T06:10:42.914517Z"
    },
    "papermill": {
     "duration": 0.028229,
     "end_time": "2024-03-03T06:10:42.918068",
     "exception": false,
     "start_time": "2024-03-03T06:10:42.889839",
     "status": "completed"
    },
    "tags": []
   },
   "outputs": [
    {
     "data": {
      "text/html": [
       "<div>\n",
       "<style scoped>\n",
       "    .dataframe tbody tr th:only-of-type {\n",
       "        vertical-align: middle;\n",
       "    }\n",
       "\n",
       "    .dataframe tbody tr th {\n",
       "        vertical-align: top;\n",
       "    }\n",
       "\n",
       "    .dataframe thead th {\n",
       "        text-align: right;\n",
       "    }\n",
       "</style>\n",
       "<table border=\"1\" class=\"dataframe\">\n",
       "  <thead>\n",
       "    <tr style=\"text-align: right;\">\n",
       "      <th></th>\n",
       "      <th>userId</th>\n",
       "      <th>movieId</th>\n",
       "      <th>rating</th>\n",
       "      <th>timestamp</th>\n",
       "      <th>rank_latest</th>\n",
       "    </tr>\n",
       "  </thead>\n",
       "  <tbody>\n",
       "    <tr>\n",
       "      <th>236</th>\n",
       "      <td>3</td>\n",
       "      <td>1</td>\n",
       "      <td>4.0</td>\n",
       "      <td>1999-12-11 13:36:47</td>\n",
       "      <td>81.0</td>\n",
       "    </tr>\n",
       "    <tr>\n",
       "      <th>237</th>\n",
       "      <td>3</td>\n",
       "      <td>24</td>\n",
       "      <td>3.0</td>\n",
       "      <td>1999-12-14 12:54:08</td>\n",
       "      <td>10.0</td>\n",
       "    </tr>\n",
       "    <tr>\n",
       "      <th>238</th>\n",
       "      <td>3</td>\n",
       "      <td>32</td>\n",
       "      <td>4.0</td>\n",
       "      <td>1999-12-11 13:14:07</td>\n",
       "      <td>140.0</td>\n",
       "    </tr>\n",
       "    <tr>\n",
       "      <th>239</th>\n",
       "      <td>3</td>\n",
       "      <td>50</td>\n",
       "      <td>5.0</td>\n",
       "      <td>1999-12-11 13:13:38</td>\n",
       "      <td>143.0</td>\n",
       "    </tr>\n",
       "    <tr>\n",
       "      <th>240</th>\n",
       "      <td>3</td>\n",
       "      <td>160</td>\n",
       "      <td>3.0</td>\n",
       "      <td>1999-12-14 12:54:08</td>\n",
       "      <td>11.0</td>\n",
       "    </tr>\n",
       "  </tbody>\n",
       "</table>\n",
       "</div>"
      ],
      "text/plain": [
       "     userId  movieId  rating           timestamp  rank_latest\n",
       "236       3        1     4.0 1999-12-11 13:36:47         81.0\n",
       "237       3       24     3.0 1999-12-14 12:54:08         10.0\n",
       "238       3       32     4.0 1999-12-11 13:14:07        140.0\n",
       "239       3       50     5.0 1999-12-11 13:13:38        143.0\n",
       "240       3      160     3.0 1999-12-14 12:54:08         11.0"
      ]
     },
     "execution_count": 10,
     "metadata": {},
     "output_type": "execute_result"
    }
   ],
   "source": [
    "ratings.head()"
   ]
  },
  {
   "cell_type": "code",
   "execution_count": 11,
   "id": "833e8596",
   "metadata": {
    "execution": {
     "iopub.execute_input": "2024-03-03T06:10:42.940317Z",
     "iopub.status.busy": "2024-03-03T06:10:42.939880Z",
     "iopub.status.idle": "2024-03-03T06:10:42.997566Z",
     "shell.execute_reply": "2024-03-03T06:10:42.996319Z"
    },
    "papermill": {
     "duration": 0.071782,
     "end_time": "2024-03-03T06:10:43.000187",
     "exception": false,
     "start_time": "2024-03-03T06:10:42.928405",
     "status": "completed"
    },
    "tags": []
   },
   "outputs": [
    {
     "data": {
      "text/html": [
       "<div>\n",
       "<style scoped>\n",
       "    .dataframe tbody tr th:only-of-type {\n",
       "        vertical-align: middle;\n",
       "    }\n",
       "\n",
       "    .dataframe tbody tr th {\n",
       "        vertical-align: top;\n",
       "    }\n",
       "\n",
       "    .dataframe thead th {\n",
       "        text-align: right;\n",
       "    }\n",
       "</style>\n",
       "<table border=\"1\" class=\"dataframe\">\n",
       "  <thead>\n",
       "    <tr style=\"text-align: right;\">\n",
       "      <th></th>\n",
       "      <th>userId</th>\n",
       "      <th>movieId</th>\n",
       "      <th>rating</th>\n",
       "      <th>timestamp</th>\n",
       "      <th>rank_latest</th>\n",
       "    </tr>\n",
       "  </thead>\n",
       "  <tbody>\n",
       "    <tr>\n",
       "      <th>237</th>\n",
       "      <td>3</td>\n",
       "      <td>24</td>\n",
       "      <td>3.0</td>\n",
       "      <td>1999-12-14 12:54:08</td>\n",
       "      <td>10.0</td>\n",
       "    </tr>\n",
       "    <tr>\n",
       "      <th>241</th>\n",
       "      <td>3</td>\n",
       "      <td>173</td>\n",
       "      <td>2.0</td>\n",
       "      <td>1999-12-14 12:54:59</td>\n",
       "      <td>1.0</td>\n",
       "    </tr>\n",
       "    <tr>\n",
       "      <th>325</th>\n",
       "      <td>3</td>\n",
       "      <td>1373</td>\n",
       "      <td>4.0</td>\n",
       "      <td>1999-12-14 12:54:32</td>\n",
       "      <td>6.0</td>\n",
       "    </tr>\n",
       "    <tr>\n",
       "      <th>337</th>\n",
       "      <td>3</td>\n",
       "      <td>1762</td>\n",
       "      <td>4.0</td>\n",
       "      <td>1999-12-14 12:54:32</td>\n",
       "      <td>7.0</td>\n",
       "    </tr>\n",
       "    <tr>\n",
       "      <th>342</th>\n",
       "      <td>3</td>\n",
       "      <td>1882</td>\n",
       "      <td>4.0</td>\n",
       "      <td>1999-12-14 12:54:32</td>\n",
       "      <td>8.0</td>\n",
       "    </tr>\n",
       "    <tr>\n",
       "      <th>...</th>\n",
       "      <td>...</td>\n",
       "      <td>...</td>\n",
       "      <td>...</td>\n",
       "      <td>...</td>\n",
       "      <td>...</td>\n",
       "    </tr>\n",
       "    <tr>\n",
       "      <th>19999801</th>\n",
       "      <td>138491</td>\n",
       "      <td>3186</td>\n",
       "      <td>5.0</td>\n",
       "      <td>2009-03-04 01:38:28</td>\n",
       "      <td>7.0</td>\n",
       "    </tr>\n",
       "    <tr>\n",
       "      <th>19999804</th>\n",
       "      <td>138491</td>\n",
       "      <td>6874</td>\n",
       "      <td>4.0</td>\n",
       "      <td>2009-07-09 23:48:57</td>\n",
       "      <td>2.0</td>\n",
       "    </tr>\n",
       "    <tr>\n",
       "      <th>19999805</th>\n",
       "      <td>138491</td>\n",
       "      <td>8961</td>\n",
       "      <td>2.5</td>\n",
       "      <td>2009-07-09 23:49:07</td>\n",
       "      <td>1.0</td>\n",
       "    </tr>\n",
       "    <tr>\n",
       "      <th>19999806</th>\n",
       "      <td>138491</td>\n",
       "      <td>33794</td>\n",
       "      <td>2.5</td>\n",
       "      <td>2009-07-09 23:48:54</td>\n",
       "      <td>3.0</td>\n",
       "    </tr>\n",
       "    <tr>\n",
       "      <th>19999807</th>\n",
       "      <td>138491</td>\n",
       "      <td>58559</td>\n",
       "      <td>3.0</td>\n",
       "      <td>2009-07-09 23:48:40</td>\n",
       "      <td>4.0</td>\n",
       "    </tr>\n",
       "  </tbody>\n",
       "</table>\n",
       "<p>415470 rows × 5 columns</p>\n",
       "</div>"
      ],
      "text/plain": [
       "          userId  movieId  rating           timestamp  rank_latest\n",
       "237            3       24     3.0 1999-12-14 12:54:08         10.0\n",
       "241            3      173     2.0 1999-12-14 12:54:59          1.0\n",
       "325            3     1373     4.0 1999-12-14 12:54:32          6.0\n",
       "337            3     1762     4.0 1999-12-14 12:54:32          7.0\n",
       "342            3     1882     4.0 1999-12-14 12:54:32          8.0\n",
       "...          ...      ...     ...                 ...          ...\n",
       "19999801  138491     3186     5.0 2009-03-04 01:38:28          7.0\n",
       "19999804  138491     6874     4.0 2009-07-09 23:48:57          2.0\n",
       "19999805  138491     8961     2.5 2009-07-09 23:49:07          1.0\n",
       "19999806  138491    33794     2.5 2009-07-09 23:48:54          3.0\n",
       "19999807  138491    58559     3.0 2009-07-09 23:48:40          4.0\n",
       "\n",
       "[415470 rows x 5 columns]"
      ]
     },
     "execution_count": 11,
     "metadata": {},
     "output_type": "execute_result"
    }
   ],
   "source": [
    "ratings[ratings['rank_latest'] <= 10]"
   ]
  },
  {
   "cell_type": "code",
   "execution_count": 12,
   "id": "282b151e",
   "metadata": {
    "execution": {
     "iopub.execute_input": "2024-03-03T06:10:43.023461Z",
     "iopub.status.busy": "2024-03-03T06:10:43.023006Z",
     "iopub.status.idle": "2024-03-03T06:10:43.370628Z",
     "shell.execute_reply": "2024-03-03T06:10:43.369452Z"
    },
    "papermill": {
     "duration": 0.362283,
     "end_time": "2024-03-03T06:10:43.373366",
     "exception": false,
     "start_time": "2024-03-03T06:10:43.011083",
     "status": "completed"
    },
    "tags": []
   },
   "outputs": [],
   "source": [
    "train_ratings = ratings[ratings['rank_latest'] > 10]\n",
    "val_ratings = ratings[(ratings['rank_latest'] <= 10) & (ratings['rank_latest'] > 2)]\n",
    "test_ratings = ratings[ratings['rank_latest'] <= 2]\n",
    "\n",
    "# drop columns that we no Longer need \n",
    "train_ratings = train_ratings[['userId', 'movieId', 'rating']]\n",
    "val_ratings = val_ratings[['userId', 'movieId', 'rating']]\n",
    "test_ratings = test_ratings[['userId','movieId','rating']]"
   ]
  },
  {
   "cell_type": "code",
   "execution_count": 13,
   "id": "d9a13c80",
   "metadata": {
    "execution": {
     "iopub.execute_input": "2024-03-03T06:10:43.397222Z",
     "iopub.status.busy": "2024-03-03T06:10:43.396824Z",
     "iopub.status.idle": "2024-03-03T06:10:43.403861Z",
     "shell.execute_reply": "2024-03-03T06:10:43.402753Z"
    },
    "papermill": {
     "duration": 0.021796,
     "end_time": "2024-03-03T06:10:43.406238",
     "exception": false,
     "start_time": "2024-03-03T06:10:43.384442",
     "status": "completed"
    },
    "tags": []
   },
   "outputs": [
    {
     "data": {
      "text/plain": [
       "((5611844, 3), (332376, 3), (83094, 3))"
      ]
     },
     "execution_count": 13,
     "metadata": {},
     "output_type": "execute_result"
    }
   ],
   "source": [
    "train_ratings.shape, val_ratings.shape, test_ratings.shape"
   ]
  },
  {
   "cell_type": "code",
   "execution_count": 14,
   "id": "ff4649e7",
   "metadata": {
    "execution": {
     "iopub.execute_input": "2024-03-03T06:10:43.429632Z",
     "iopub.status.busy": "2024-03-03T06:10:43.429245Z",
     "iopub.status.idle": "2024-03-03T06:10:43.443131Z",
     "shell.execute_reply": "2024-03-03T06:10:43.441963Z"
    },
    "papermill": {
     "duration": 0.028429,
     "end_time": "2024-03-03T06:10:43.445441",
     "exception": false,
     "start_time": "2024-03-03T06:10:43.417012",
     "status": "completed"
    },
    "tags": []
   },
   "outputs": [
    {
     "data": {
      "text/html": [
       "<div>\n",
       "<style scoped>\n",
       "    .dataframe tbody tr th:only-of-type {\n",
       "        vertical-align: middle;\n",
       "    }\n",
       "\n",
       "    .dataframe tbody tr th {\n",
       "        vertical-align: top;\n",
       "    }\n",
       "\n",
       "    .dataframe thead th {\n",
       "        text-align: right;\n",
       "    }\n",
       "</style>\n",
       "<table border=\"1\" class=\"dataframe\">\n",
       "  <thead>\n",
       "    <tr style=\"text-align: right;\">\n",
       "      <th></th>\n",
       "      <th>userId</th>\n",
       "      <th>movieId</th>\n",
       "      <th>rating</th>\n",
       "      <th>timestamp</th>\n",
       "      <th>rank_latest</th>\n",
       "    </tr>\n",
       "  </thead>\n",
       "  <tbody>\n",
       "    <tr>\n",
       "      <th>236</th>\n",
       "      <td>3</td>\n",
       "      <td>1</td>\n",
       "      <td>4.0</td>\n",
       "      <td>1999-12-11 13:36:47</td>\n",
       "      <td>81.0</td>\n",
       "    </tr>\n",
       "    <tr>\n",
       "      <th>237</th>\n",
       "      <td>3</td>\n",
       "      <td>24</td>\n",
       "      <td>3.0</td>\n",
       "      <td>1999-12-14 12:54:08</td>\n",
       "      <td>10.0</td>\n",
       "    </tr>\n",
       "    <tr>\n",
       "      <th>238</th>\n",
       "      <td>3</td>\n",
       "      <td>32</td>\n",
       "      <td>4.0</td>\n",
       "      <td>1999-12-11 13:14:07</td>\n",
       "      <td>140.0</td>\n",
       "    </tr>\n",
       "    <tr>\n",
       "      <th>239</th>\n",
       "      <td>3</td>\n",
       "      <td>50</td>\n",
       "      <td>5.0</td>\n",
       "      <td>1999-12-11 13:13:38</td>\n",
       "      <td>143.0</td>\n",
       "    </tr>\n",
       "    <tr>\n",
       "      <th>240</th>\n",
       "      <td>3</td>\n",
       "      <td>160</td>\n",
       "      <td>3.0</td>\n",
       "      <td>1999-12-14 12:54:08</td>\n",
       "      <td>11.0</td>\n",
       "    </tr>\n",
       "  </tbody>\n",
       "</table>\n",
       "</div>"
      ],
      "text/plain": [
       "     userId  movieId  rating           timestamp  rank_latest\n",
       "236       3        1     4.0 1999-12-11 13:36:47         81.0\n",
       "237       3       24     3.0 1999-12-14 12:54:08         10.0\n",
       "238       3       32     4.0 1999-12-11 13:14:07        140.0\n",
       "239       3       50     5.0 1999-12-11 13:13:38        143.0\n",
       "240       3      160     3.0 1999-12-14 12:54:08         11.0"
      ]
     },
     "execution_count": 14,
     "metadata": {},
     "output_type": "execute_result"
    }
   ],
   "source": [
    "ratings.head()"
   ]
  },
  {
   "cell_type": "code",
   "execution_count": 15,
   "id": "0d3559e7",
   "metadata": {
    "execution": {
     "iopub.execute_input": "2024-03-03T06:10:43.469529Z",
     "iopub.status.busy": "2024-03-03T06:10:43.469095Z",
     "iopub.status.idle": "2024-03-03T06:10:43.743227Z",
     "shell.execute_reply": "2024-03-03T06:10:43.742078Z"
    },
    "papermill": {
     "duration": 0.289121,
     "end_time": "2024-03-03T06:10:43.745544",
     "exception": false,
     "start_time": "2024-03-03T06:10:43.456423",
     "status": "completed"
    },
    "tags": []
   },
   "outputs": [
    {
     "data": {
      "text/html": [
       "<div>\n",
       "<style scoped>\n",
       "    .dataframe tbody tr th:only-of-type {\n",
       "        vertical-align: middle;\n",
       "    }\n",
       "\n",
       "    .dataframe tbody tr th {\n",
       "        vertical-align: top;\n",
       "    }\n",
       "\n",
       "    .dataframe thead th {\n",
       "        text-align: right;\n",
       "    }\n",
       "</style>\n",
       "<table border=\"1\" class=\"dataframe\">\n",
       "  <thead>\n",
       "    <tr style=\"text-align: right;\">\n",
       "      <th></th>\n",
       "      <th>userId</th>\n",
       "      <th>movieId</th>\n",
       "      <th>rating</th>\n",
       "    </tr>\n",
       "  </thead>\n",
       "  <tbody>\n",
       "    <tr>\n",
       "      <th>8430429</th>\n",
       "      <td>58177</td>\n",
       "      <td>4874</td>\n",
       "      <td>1.0</td>\n",
       "    </tr>\n",
       "    <tr>\n",
       "      <th>14421990</th>\n",
       "      <td>99620</td>\n",
       "      <td>1281</td>\n",
       "      <td>1.0</td>\n",
       "    </tr>\n",
       "    <tr>\n",
       "      <th>18779975</th>\n",
       "      <td>130076</td>\n",
       "      <td>551</td>\n",
       "      <td>1.0</td>\n",
       "    </tr>\n",
       "    <tr>\n",
       "      <th>13768013</th>\n",
       "      <td>95138</td>\n",
       "      <td>1533</td>\n",
       "      <td>1.0</td>\n",
       "    </tr>\n",
       "    <tr>\n",
       "      <th>1126150</th>\n",
       "      <td>7686</td>\n",
       "      <td>1264</td>\n",
       "      <td>1.0</td>\n",
       "    </tr>\n",
       "  </tbody>\n",
       "</table>\n",
       "</div>"
      ],
      "text/plain": [
       "          userId  movieId  rating\n",
       "8430429    58177     4874     1.0\n",
       "14421990   99620     1281     1.0\n",
       "18779975  130076      551     1.0\n",
       "13768013   95138     1533     1.0\n",
       "1126150     7686     1264     1.0"
      ]
     },
     "execution_count": 15,
     "metadata": {},
     "output_type": "execute_result"
    }
   ],
   "source": [
    "train_ratings.loc[:, 'rating'] = 1\n",
    "\n",
    "train_ratings.sample(5)"
   ]
  },
  {
   "cell_type": "code",
   "execution_count": 16,
   "id": "eb2c8b3e",
   "metadata": {
    "execution": {
     "iopub.execute_input": "2024-03-03T06:10:43.770039Z",
     "iopub.status.busy": "2024-03-03T06:10:43.769663Z",
     "iopub.status.idle": "2024-03-03T06:10:43.775130Z",
     "shell.execute_reply": "2024-03-03T06:10:43.773997Z"
    },
    "papermill": {
     "duration": 0.020697,
     "end_time": "2024-03-03T06:10:43.777456",
     "exception": false,
     "start_time": "2024-03-03T06:10:43.756759",
     "status": "completed"
    },
    "tags": []
   },
   "outputs": [],
   "source": [
    "# # Get a list of all movie IDs\n",
    "# all_movieIds = ratings['movieId'].unique()\n",
    "\n",
    "# # Placeholfers that will hold the training data\n",
    "# users, items, labels = [], [], []\n",
    "\n",
    "# # This is the set of items that each usesr has interaction with\n",
    "# user_item_set = set(zip(train_ratings['userId'],train_ratings['movieId']))\n",
    "\n",
    "# # 4:1 ratio of negative to positive samples\n",
    "# num_negatives = 4\n",
    "\n",
    "# for (u, i) in tqdm(user_item_set):\n",
    "#     users.append(u)\n",
    "#     items.append(i)\n",
    "#     labels.append(1) # items that the user has interacted with are positive\n",
    "#     for _ in range(num_negatives):\n",
    "#         # randomly select an item\n",
    "#         negative_item = np.random.choice(all_movieIds)\n",
    "#         # check that the user has not interacted with this item\n",
    "#         while (u, negative_item) in user_item_set:\n",
    "#             negative_item = np.random.choice(all_movieIds)\n",
    "#         users.append(u)\n",
    "#         items.append(negative_item)\n",
    "#         labels.append(0) # items not interacted with are negative"
   ]
  },
  {
   "cell_type": "code",
   "execution_count": 17,
   "id": "10f2846a",
   "metadata": {
    "execution": {
     "iopub.execute_input": "2024-03-03T06:10:43.802456Z",
     "iopub.status.busy": "2024-03-03T06:10:43.802030Z",
     "iopub.status.idle": "2024-03-03T06:10:43.813271Z",
     "shell.execute_reply": "2024-03-03T06:10:43.812268Z"
    },
    "papermill": {
     "duration": 0.026427,
     "end_time": "2024-03-03T06:10:43.815511",
     "exception": false,
     "start_time": "2024-03-03T06:10:43.789084",
     "status": "completed"
    },
    "tags": []
   },
   "outputs": [],
   "source": [
    "class MovieLens20MDataset(Dataset):\n",
    "    def __init__(self, user_ids, movie_ids, num_negatives= 4):\n",
    "        self.users, self.items, self.labels = self.get_dataset(user_ids, movie_ids, num_negatives)\n",
    "        \n",
    "    def __len__(self):\n",
    "        return len(self.users)\n",
    "    \n",
    "    def __getitem__ (self, idx):\n",
    "        return self.users[idx], self.items[idx], self.labels[idx]\n",
    "    \n",
    "    def get_dataset(self, user_ids, movie_ids, num_negatives):\n",
    "        # This is the set of items that each usesr has interaction with\n",
    "        user_item_set = set(zip(user_ids, movie_ids))\n",
    "        users, items, labels = [], [], []\n",
    "        all_movieIds = movie_ids.unique()\n",
    "        for (u, i) in tqdm(user_item_set):\n",
    "            users.append(u)\n",
    "            items.append(i)\n",
    "            labels.append(1) # items that the user has interacted with are positive\n",
    "            for _ in range(num_negatives):\n",
    "                # randomly select an item\n",
    "                negative_item = np.random.choice(all_movieIds)\n",
    "                # check that the user has not interacted with this item\n",
    "                while (u, negative_item) in user_item_set:\n",
    "                    negative_item = np.random.choice(all_movieIds)\n",
    "                users.append(u)\n",
    "                items.append(negative_item)\n",
    "                labels.append(0) # items not interacted with are negative\n",
    "        return torch.tensor(users), torch.tensor(items), torch.tensor(labels)\n",
    "        "
   ]
  },
  {
   "cell_type": "markdown",
   "id": "d1e37561",
   "metadata": {
    "papermill": {
     "duration": 0.010911,
     "end_time": "2024-03-03T06:10:43.837681",
     "exception": false,
     "start_time": "2024-03-03T06:10:43.826770",
     "status": "completed"
    },
    "tags": []
   },
   "source": [
    "# Prepare data for training"
   ]
  },
  {
   "cell_type": "code",
   "execution_count": 18,
   "id": "223671c5",
   "metadata": {
    "execution": {
     "iopub.execute_input": "2024-03-03T06:10:43.861822Z",
     "iopub.status.busy": "2024-03-03T06:10:43.861400Z",
     "iopub.status.idle": "2024-03-03T06:22:18.181762Z",
     "shell.execute_reply": "2024-03-03T06:22:18.180501Z"
    },
    "papermill": {
     "duration": 694.339341,
     "end_time": "2024-03-03T06:22:18.188247",
     "exception": false,
     "start_time": "2024-03-03T06:10:43.848906",
     "status": "completed"
    },
    "tags": []
   },
   "outputs": [
    {
     "data": {
      "application/vnd.jupyter.widget-view+json": {
       "model_id": "4fd968d099b141129c71b205d59f9d3c",
       "version_major": 2,
       "version_minor": 0
      },
      "text/plain": [
       "  0%|          | 0/5611844 [00:00<?, ?it/s]"
      ]
     },
     "metadata": {},
     "output_type": "display_data"
    }
   ],
   "source": [
    "train_dataset = MovieLens20MDataset(train_ratings['userId'], train_ratings['movieId'])"
   ]
  },
  {
   "cell_type": "code",
   "execution_count": 19,
   "id": "ec09be61",
   "metadata": {
    "execution": {
     "iopub.execute_input": "2024-03-03T06:22:18.213214Z",
     "iopub.status.busy": "2024-03-03T06:22:18.212817Z",
     "iopub.status.idle": "2024-03-03T06:23:01.743063Z",
     "shell.execute_reply": "2024-03-03T06:23:01.741800Z"
    },
    "papermill": {
     "duration": 43.548154,
     "end_time": "2024-03-03T06:23:01.747997",
     "exception": false,
     "start_time": "2024-03-03T06:22:18.199843",
     "status": "completed"
    },
    "tags": []
   },
   "outputs": [
    {
     "data": {
      "application/vnd.jupyter.widget-view+json": {
       "model_id": "2dc9b3d6a07d452daee9c97a6f1872f4",
       "version_major": 2,
       "version_minor": 0
      },
      "text/plain": [
       "  0%|          | 0/332376 [00:00<?, ?it/s]"
      ]
     },
     "metadata": {},
     "output_type": "display_data"
    }
   ],
   "source": [
    "val_dataset = MovieLens20MDataset(val_ratings['userId'], val_ratings['movieId'])"
   ]
  },
  {
   "cell_type": "code",
   "execution_count": 20,
   "id": "35273812",
   "metadata": {
    "execution": {
     "iopub.execute_input": "2024-03-03T06:23:01.774421Z",
     "iopub.status.busy": "2024-03-03T06:23:01.774003Z",
     "iopub.status.idle": "2024-03-03T06:23:12.188546Z",
     "shell.execute_reply": "2024-03-03T06:23:12.187101Z"
    },
    "papermill": {
     "duration": 10.450702,
     "end_time": "2024-03-03T06:23:12.211005",
     "exception": false,
     "start_time": "2024-03-03T06:23:01.760303",
     "status": "completed"
    },
    "tags": []
   },
   "outputs": [
    {
     "data": {
      "application/vnd.jupyter.widget-view+json": {
       "model_id": "875aef595d1a46b98643164909b4c2f3",
       "version_major": 2,
       "version_minor": 0
      },
      "text/plain": [
       "  0%|          | 0/83094 [00:00<?, ?it/s]"
      ]
     },
     "metadata": {},
     "output_type": "display_data"
    }
   ],
   "source": [
    "test_dataset = MovieLens20MDataset(test_ratings['userId'], test_ratings['movieId'])"
   ]
  },
  {
   "cell_type": "code",
   "execution_count": 21,
   "id": "e9e20a6a",
   "metadata": {
    "execution": {
     "iopub.execute_input": "2024-03-03T06:23:12.237414Z",
     "iopub.status.busy": "2024-03-03T06:23:12.236988Z",
     "iopub.status.idle": "2024-03-03T06:23:12.244078Z",
     "shell.execute_reply": "2024-03-03T06:23:12.242900Z"
    },
    "papermill": {
     "duration": 0.023179,
     "end_time": "2024-03-03T06:23:12.246333",
     "exception": false,
     "start_time": "2024-03-03T06:23:12.223154",
     "status": "completed"
    },
    "tags": []
   },
   "outputs": [],
   "source": [
    "train = DataLoader(train_dataset, \n",
    "                        batch_size=4,\n",
    "                        shuffle=True, \n",
    "                        num_workers=0)"
   ]
  },
  {
   "cell_type": "code",
   "execution_count": 22,
   "id": "d8ffeb46",
   "metadata": {
    "execution": {
     "iopub.execute_input": "2024-03-03T06:23:12.272340Z",
     "iopub.status.busy": "2024-03-03T06:23:12.271930Z",
     "iopub.status.idle": "2024-03-03T06:23:12.277219Z",
     "shell.execute_reply": "2024-03-03T06:23:12.276211Z"
    },
    "papermill": {
     "duration": 0.021067,
     "end_time": "2024-03-03T06:23:12.279486",
     "exception": false,
     "start_time": "2024-03-03T06:23:12.258419",
     "status": "completed"
    },
    "tags": []
   },
   "outputs": [],
   "source": [
    "val = DataLoader(val_dataset, \n",
    "                        batch_size=4,\n",
    "                        shuffle=True, \n",
    "                        num_workers=0)"
   ]
  },
  {
   "cell_type": "code",
   "execution_count": 23,
   "id": "a7df7ca5",
   "metadata": {
    "execution": {
     "iopub.execute_input": "2024-03-03T06:23:12.305513Z",
     "iopub.status.busy": "2024-03-03T06:23:12.305064Z",
     "iopub.status.idle": "2024-03-03T06:23:12.310350Z",
     "shell.execute_reply": "2024-03-03T06:23:12.309213Z"
    },
    "papermill": {
     "duration": 0.02095,
     "end_time": "2024-03-03T06:23:12.312558",
     "exception": false,
     "start_time": "2024-03-03T06:23:12.291608",
     "status": "completed"
    },
    "tags": []
   },
   "outputs": [],
   "source": [
    "test = DataLoader(test_dataset, \n",
    "                        batch_size=4,\n",
    "                        shuffle=True, \n",
    "                        num_workers=0)"
   ]
  },
  {
   "cell_type": "code",
   "execution_count": 24,
   "id": "e20dab44",
   "metadata": {
    "execution": {
     "iopub.execute_input": "2024-03-03T06:23:12.339302Z",
     "iopub.status.busy": "2024-03-03T06:23:12.338886Z",
     "iopub.status.idle": "2024-03-03T06:23:12.379851Z",
     "shell.execute_reply": "2024-03-03T06:23:12.378366Z"
    },
    "papermill": {
     "duration": 0.057483,
     "end_time": "2024-03-03T06:23:12.382487",
     "exception": false,
     "start_time": "2024-03-03T06:23:12.325004",
     "status": "completed"
    },
    "tags": []
   },
   "outputs": [
    {
     "name": "stdout",
     "output_type": "stream",
     "text": [
      "0 (tensor(5070), tensor(1270), tensor(1))\n",
      "1 (tensor(5070), tensor(84133), tensor(0))\n",
      "2 (tensor(5070), tensor(116285), tensor(0))\n",
      "3 (tensor(5070), tensor(6931), tensor(0))\n",
      "4 (tensor(5070), tensor(83222), tensor(0))\n",
      "5 (tensor(12009), tensor(3476), tensor(1))\n",
      "6 (tensor(12009), tensor(27050), tensor(0))\n",
      "7 (tensor(12009), tensor(86841), tensor(0))\n",
      "8 (tensor(12009), tensor(6749), tensor(0))\n",
      "9 (tensor(12009), tensor(67429), tensor(0))\n",
      "10 (tensor(109462), tensor(3265), tensor(1))\n"
     ]
    }
   ],
   "source": [
    "for i, sample in enumerate(train_dataset):\n",
    "    print(i, sample)\n",
    "\n",
    "    if i == 10:\n",
    "        break"
   ]
  },
  {
   "cell_type": "code",
   "execution_count": 25,
   "id": "8b0d2feb",
   "metadata": {
    "execution": {
     "iopub.execute_input": "2024-03-03T06:23:12.408830Z",
     "iopub.status.busy": "2024-03-03T06:23:12.408446Z",
     "iopub.status.idle": "2024-03-03T06:23:13.293737Z",
     "shell.execute_reply": "2024-03-03T06:23:13.292534Z"
    },
    "papermill": {
     "duration": 0.901741,
     "end_time": "2024-03-03T06:23:13.296610",
     "exception": false,
     "start_time": "2024-03-03T06:23:12.394869",
     "status": "completed"
    },
    "tags": []
   },
   "outputs": [],
   "source": [
    "torch.save(train_dataset, './train.pt')\n",
    "torch.save(val_dataset, './val.pt')\n",
    "torch.save(test_dataset, './test.pt')"
   ]
  },
  {
   "cell_type": "code",
   "execution_count": 26,
   "id": "305eebed",
   "metadata": {
    "execution": {
     "iopub.execute_input": "2024-03-03T06:23:13.323365Z",
     "iopub.status.busy": "2024-03-03T06:23:13.322809Z",
     "iopub.status.idle": "2024-03-03T06:23:13.732777Z",
     "shell.execute_reply": "2024-03-03T06:23:13.731481Z"
    },
    "papermill": {
     "duration": 0.426347,
     "end_time": "2024-03-03T06:23:13.735630",
     "exception": false,
     "start_time": "2024-03-03T06:23:13.309283",
     "status": "completed"
    },
    "tags": []
   },
   "outputs": [],
   "source": [
    "train_dataset = torch.load('./train.pt')"
   ]
  },
  {
   "cell_type": "code",
   "execution_count": 27,
   "id": "e33d34b1",
   "metadata": {
    "execution": {
     "iopub.execute_input": "2024-03-03T06:23:13.762738Z",
     "iopub.status.busy": "2024-03-03T06:23:13.762370Z",
     "iopub.status.idle": "2024-03-03T06:23:13.772457Z",
     "shell.execute_reply": "2024-03-03T06:23:13.771285Z"
    },
    "papermill": {
     "duration": 0.026624,
     "end_time": "2024-03-03T06:23:13.775056",
     "exception": false,
     "start_time": "2024-03-03T06:23:13.748432",
     "status": "completed"
    },
    "tags": []
   },
   "outputs": [
    {
     "name": "stdout",
     "output_type": "stream",
     "text": [
      "0 (tensor(5070), tensor(1270), tensor(1))\n",
      "1 (tensor(5070), tensor(84133), tensor(0))\n",
      "2 (tensor(5070), tensor(116285), tensor(0))\n",
      "3 (tensor(5070), tensor(6931), tensor(0))\n",
      "4 (tensor(5070), tensor(83222), tensor(0))\n",
      "5 (tensor(12009), tensor(3476), tensor(1))\n",
      "6 (tensor(12009), tensor(27050), tensor(0))\n",
      "7 (tensor(12009), tensor(86841), tensor(0))\n",
      "8 (tensor(12009), tensor(6749), tensor(0))\n",
      "9 (tensor(12009), tensor(67429), tensor(0))\n",
      "10 (tensor(109462), tensor(3265), tensor(1))\n"
     ]
    }
   ],
   "source": [
    "for i, sample in enumerate(train_dataset):\n",
    "    print(i, sample)\n",
    "\n",
    "    if i == 10:\n",
    "        break"
   ]
  },
  {
   "cell_type": "code",
   "execution_count": null,
   "id": "16de9460",
   "metadata": {
    "papermill": {
     "duration": 0.012679,
     "end_time": "2024-03-03T06:23:13.800492",
     "exception": false,
     "start_time": "2024-03-03T06:23:13.787813",
     "status": "completed"
    },
    "tags": []
   },
   "outputs": [],
   "source": []
  }
 ],
 "metadata": {
  "kaggle": {
   "accelerator": "none",
   "dataSources": [
    {
     "datasetId": 339,
     "sourceId": 77759,
     "sourceType": "datasetVersion"
    }
   ],
   "dockerImageVersionId": 30664,
   "isGpuEnabled": false,
   "isInternetEnabled": true,
   "language": "python",
   "sourceType": "notebook"
  },
  "kernelspec": {
   "display_name": "Python 3",
   "language": "python",
   "name": "python3"
  },
  "language_info": {
   "codemirror_mode": {
    "name": "ipython",
    "version": 3
   },
   "file_extension": ".py",
   "mimetype": "text/x-python",
   "name": "python",
   "nbconvert_exporter": "python",
   "pygments_lexer": "ipython3",
   "version": "3.10.13"
  },
  "papermill": {
   "default_parameters": {},
   "duration": 839.049692,
   "end_time": "2024-03-03T06:23:15.343674",
   "environment_variables": {},
   "exception": null,
   "input_path": "__notebook__.ipynb",
   "output_path": "__notebook__.ipynb",
   "parameters": {},
   "start_time": "2024-03-03T06:09:16.293982",
   "version": "2.5.0"
  },
  "widgets": {
   "application/vnd.jupyter.widget-state+json": {
    "state": {
     "05405631258e4d8dafda071757594bbe": {
      "model_module": "@jupyter-widgets/base",
      "model_module_version": "1.2.0",
      "model_name": "LayoutModel",
      "state": {
       "_model_module": "@jupyter-widgets/base",
       "_model_module_version": "1.2.0",
       "_model_name": "LayoutModel",
       "_view_count": null,
       "_view_module": "@jupyter-widgets/base",
       "_view_module_version": "1.2.0",
       "_view_name": "LayoutView",
       "align_content": null,
       "align_items": null,
       "align_self": null,
       "border": null,
       "bottom": null,
       "display": null,
       "flex": null,
       "flex_flow": null,
       "grid_area": null,
       "grid_auto_columns": null,
       "grid_auto_flow": null,
       "grid_auto_rows": null,
       "grid_column": null,
       "grid_gap": null,
       "grid_row": null,
       "grid_template_areas": null,
       "grid_template_columns": null,
       "grid_template_rows": null,
       "height": null,
       "justify_content": null,
       "justify_items": null,
       "left": null,
       "margin": null,
       "max_height": null,
       "max_width": null,
       "min_height": null,
       "min_width": null,
       "object_fit": null,
       "object_position": null,
       "order": null,
       "overflow": null,
       "overflow_x": null,
       "overflow_y": null,
       "padding": null,
       "right": null,
       "top": null,
       "visibility": null,
       "width": null
      }
     },
     "06c9454d5f514347a2ecfb7741dba04f": {
      "model_module": "@jupyter-widgets/base",
      "model_module_version": "1.2.0",
      "model_name": "LayoutModel",
      "state": {
       "_model_module": "@jupyter-widgets/base",
       "_model_module_version": "1.2.0",
       "_model_name": "LayoutModel",
       "_view_count": null,
       "_view_module": "@jupyter-widgets/base",
       "_view_module_version": "1.2.0",
       "_view_name": "LayoutView",
       "align_content": null,
       "align_items": null,
       "align_self": null,
       "border": null,
       "bottom": null,
       "display": null,
       "flex": null,
       "flex_flow": null,
       "grid_area": null,
       "grid_auto_columns": null,
       "grid_auto_flow": null,
       "grid_auto_rows": null,
       "grid_column": null,
       "grid_gap": null,
       "grid_row": null,
       "grid_template_areas": null,
       "grid_template_columns": null,
       "grid_template_rows": null,
       "height": null,
       "justify_content": null,
       "justify_items": null,
       "left": null,
       "margin": null,
       "max_height": null,
       "max_width": null,
       "min_height": null,
       "min_width": null,
       "object_fit": null,
       "object_position": null,
       "order": null,
       "overflow": null,
       "overflow_x": null,
       "overflow_y": null,
       "padding": null,
       "right": null,
       "top": null,
       "visibility": null,
       "width": null
      }
     },
     "1e85cc692e9c42ba9ba278d3acfbb33a": {
      "model_module": "@jupyter-widgets/base",
      "model_module_version": "1.2.0",
      "model_name": "LayoutModel",
      "state": {
       "_model_module": "@jupyter-widgets/base",
       "_model_module_version": "1.2.0",
       "_model_name": "LayoutModel",
       "_view_count": null,
       "_view_module": "@jupyter-widgets/base",
       "_view_module_version": "1.2.0",
       "_view_name": "LayoutView",
       "align_content": null,
       "align_items": null,
       "align_self": null,
       "border": null,
       "bottom": null,
       "display": null,
       "flex": null,
       "flex_flow": null,
       "grid_area": null,
       "grid_auto_columns": null,
       "grid_auto_flow": null,
       "grid_auto_rows": null,
       "grid_column": null,
       "grid_gap": null,
       "grid_row": null,
       "grid_template_areas": null,
       "grid_template_columns": null,
       "grid_template_rows": null,
       "height": null,
       "justify_content": null,
       "justify_items": null,
       "left": null,
       "margin": null,
       "max_height": null,
       "max_width": null,
       "min_height": null,
       "min_width": null,
       "object_fit": null,
       "object_position": null,
       "order": null,
       "overflow": null,
       "overflow_x": null,
       "overflow_y": null,
       "padding": null,
       "right": null,
       "top": null,
       "visibility": null,
       "width": null
      }
     },
     "21937e3b554b4c3891ffc96ba4cf1799": {
      "model_module": "@jupyter-widgets/base",
      "model_module_version": "1.2.0",
      "model_name": "LayoutModel",
      "state": {
       "_model_module": "@jupyter-widgets/base",
       "_model_module_version": "1.2.0",
       "_model_name": "LayoutModel",
       "_view_count": null,
       "_view_module": "@jupyter-widgets/base",
       "_view_module_version": "1.2.0",
       "_view_name": "LayoutView",
       "align_content": null,
       "align_items": null,
       "align_self": null,
       "border": null,
       "bottom": null,
       "display": null,
       "flex": null,
       "flex_flow": null,
       "grid_area": null,
       "grid_auto_columns": null,
       "grid_auto_flow": null,
       "grid_auto_rows": null,
       "grid_column": null,
       "grid_gap": null,
       "grid_row": null,
       "grid_template_areas": null,
       "grid_template_columns": null,
       "grid_template_rows": null,
       "height": null,
       "justify_content": null,
       "justify_items": null,
       "left": null,
       "margin": null,
       "max_height": null,
       "max_width": null,
       "min_height": null,
       "min_width": null,
       "object_fit": null,
       "object_position": null,
       "order": null,
       "overflow": null,
       "overflow_x": null,
       "overflow_y": null,
       "padding": null,
       "right": null,
       "top": null,
       "visibility": null,
       "width": null
      }
     },
     "24e4d8333cb440d78abe04dee4188200": {
      "model_module": "@jupyter-widgets/base",
      "model_module_version": "1.2.0",
      "model_name": "LayoutModel",
      "state": {
       "_model_module": "@jupyter-widgets/base",
       "_model_module_version": "1.2.0",
       "_model_name": "LayoutModel",
       "_view_count": null,
       "_view_module": "@jupyter-widgets/base",
       "_view_module_version": "1.2.0",
       "_view_name": "LayoutView",
       "align_content": null,
       "align_items": null,
       "align_self": null,
       "border": null,
       "bottom": null,
       "display": null,
       "flex": null,
       "flex_flow": null,
       "grid_area": null,
       "grid_auto_columns": null,
       "grid_auto_flow": null,
       "grid_auto_rows": null,
       "grid_column": null,
       "grid_gap": null,
       "grid_row": null,
       "grid_template_areas": null,
       "grid_template_columns": null,
       "grid_template_rows": null,
       "height": null,
       "justify_content": null,
       "justify_items": null,
       "left": null,
       "margin": null,
       "max_height": null,
       "max_width": null,
       "min_height": null,
       "min_width": null,
       "object_fit": null,
       "object_position": null,
       "order": null,
       "overflow": null,
       "overflow_x": null,
       "overflow_y": null,
       "padding": null,
       "right": null,
       "top": null,
       "visibility": null,
       "width": null
      }
     },
     "257ccaab39984a6ab37b9b2d5f424ef1": {
      "model_module": "@jupyter-widgets/base",
      "model_module_version": "1.2.0",
      "model_name": "LayoutModel",
      "state": {
       "_model_module": "@jupyter-widgets/base",
       "_model_module_version": "1.2.0",
       "_model_name": "LayoutModel",
       "_view_count": null,
       "_view_module": "@jupyter-widgets/base",
       "_view_module_version": "1.2.0",
       "_view_name": "LayoutView",
       "align_content": null,
       "align_items": null,
       "align_self": null,
       "border": null,
       "bottom": null,
       "display": null,
       "flex": null,
       "flex_flow": null,
       "grid_area": null,
       "grid_auto_columns": null,
       "grid_auto_flow": null,
       "grid_auto_rows": null,
       "grid_column": null,
       "grid_gap": null,
       "grid_row": null,
       "grid_template_areas": null,
       "grid_template_columns": null,
       "grid_template_rows": null,
       "height": null,
       "justify_content": null,
       "justify_items": null,
       "left": null,
       "margin": null,
       "max_height": null,
       "max_width": null,
       "min_height": null,
       "min_width": null,
       "object_fit": null,
       "object_position": null,
       "order": null,
       "overflow": null,
       "overflow_x": null,
       "overflow_y": null,
       "padding": null,
       "right": null,
       "top": null,
       "visibility": null,
       "width": null
      }
     },
     "2898fdcb107847118cc813d2b7eaed60": {
      "model_module": "@jupyter-widgets/base",
      "model_module_version": "1.2.0",
      "model_name": "LayoutModel",
      "state": {
       "_model_module": "@jupyter-widgets/base",
       "_model_module_version": "1.2.0",
       "_model_name": "LayoutModel",
       "_view_count": null,
       "_view_module": "@jupyter-widgets/base",
       "_view_module_version": "1.2.0",
       "_view_name": "LayoutView",
       "align_content": null,
       "align_items": null,
       "align_self": null,
       "border": null,
       "bottom": null,
       "display": null,
       "flex": null,
       "flex_flow": null,
       "grid_area": null,
       "grid_auto_columns": null,
       "grid_auto_flow": null,
       "grid_auto_rows": null,
       "grid_column": null,
       "grid_gap": null,
       "grid_row": null,
       "grid_template_areas": null,
       "grid_template_columns": null,
       "grid_template_rows": null,
       "height": null,
       "justify_content": null,
       "justify_items": null,
       "left": null,
       "margin": null,
       "max_height": null,
       "max_width": null,
       "min_height": null,
       "min_width": null,
       "object_fit": null,
       "object_position": null,
       "order": null,
       "overflow": null,
       "overflow_x": null,
       "overflow_y": null,
       "padding": null,
       "right": null,
       "top": null,
       "visibility": null,
       "width": null
      }
     },
     "2dc9b3d6a07d452daee9c97a6f1872f4": {
      "model_module": "@jupyter-widgets/controls",
      "model_module_version": "1.5.0",
      "model_name": "HBoxModel",
      "state": {
       "_dom_classes": [],
       "_model_module": "@jupyter-widgets/controls",
       "_model_module_version": "1.5.0",
       "_model_name": "HBoxModel",
       "_view_count": null,
       "_view_module": "@jupyter-widgets/controls",
       "_view_module_version": "1.5.0",
       "_view_name": "HBoxView",
       "box_style": "",
       "children": [
        "IPY_MODEL_6e3d64ad14fd42dba4b3f49e2d6f0062",
        "IPY_MODEL_f5ed1f9ec64048c2a81af370e2a7ae9a",
        "IPY_MODEL_b9983380a9c543c9947dc093b0ac7e35"
       ],
       "layout": "IPY_MODEL_05405631258e4d8dafda071757594bbe"
      }
     },
     "3557c373c1d0452bac5f3a31507f9236": {
      "model_module": "@jupyter-widgets/controls",
      "model_module_version": "1.5.0",
      "model_name": "DescriptionStyleModel",
      "state": {
       "_model_module": "@jupyter-widgets/controls",
       "_model_module_version": "1.5.0",
       "_model_name": "DescriptionStyleModel",
       "_view_count": null,
       "_view_module": "@jupyter-widgets/base",
       "_view_module_version": "1.2.0",
       "_view_name": "StyleView",
       "description_width": ""
      }
     },
     "3f2a1b47dd714495addcc859dcdbc34b": {
      "model_module": "@jupyter-widgets/base",
      "model_module_version": "1.2.0",
      "model_name": "LayoutModel",
      "state": {
       "_model_module": "@jupyter-widgets/base",
       "_model_module_version": "1.2.0",
       "_model_name": "LayoutModel",
       "_view_count": null,
       "_view_module": "@jupyter-widgets/base",
       "_view_module_version": "1.2.0",
       "_view_name": "LayoutView",
       "align_content": null,
       "align_items": null,
       "align_self": null,
       "border": null,
       "bottom": null,
       "display": null,
       "flex": null,
       "flex_flow": null,
       "grid_area": null,
       "grid_auto_columns": null,
       "grid_auto_flow": null,
       "grid_auto_rows": null,
       "grid_column": null,
       "grid_gap": null,
       "grid_row": null,
       "grid_template_areas": null,
       "grid_template_columns": null,
       "grid_template_rows": null,
       "height": null,
       "justify_content": null,
       "justify_items": null,
       "left": null,
       "margin": null,
       "max_height": null,
       "max_width": null,
       "min_height": null,
       "min_width": null,
       "object_fit": null,
       "object_position": null,
       "order": null,
       "overflow": null,
       "overflow_x": null,
       "overflow_y": null,
       "padding": null,
       "right": null,
       "top": null,
       "visibility": null,
       "width": null
      }
     },
     "4b897ca3315b4718877f07744242fba7": {
      "model_module": "@jupyter-widgets/controls",
      "model_module_version": "1.5.0",
      "model_name": "DescriptionStyleModel",
      "state": {
       "_model_module": "@jupyter-widgets/controls",
       "_model_module_version": "1.5.0",
       "_model_name": "DescriptionStyleModel",
       "_view_count": null,
       "_view_module": "@jupyter-widgets/base",
       "_view_module_version": "1.2.0",
       "_view_name": "StyleView",
       "description_width": ""
      }
     },
     "4fd968d099b141129c71b205d59f9d3c": {
      "model_module": "@jupyter-widgets/controls",
      "model_module_version": "1.5.0",
      "model_name": "HBoxModel",
      "state": {
       "_dom_classes": [],
       "_model_module": "@jupyter-widgets/controls",
       "_model_module_version": "1.5.0",
       "_model_name": "HBoxModel",
       "_view_count": null,
       "_view_module": "@jupyter-widgets/controls",
       "_view_module_version": "1.5.0",
       "_view_name": "HBoxView",
       "box_style": "",
       "children": [
        "IPY_MODEL_b809ad5843034757bea9aa9327e252b5",
        "IPY_MODEL_529bcb0cbcc94d6983318c7bc1e5b932",
        "IPY_MODEL_c1e1cc61e4a447cdbf7a7197904808f1"
       ],
       "layout": "IPY_MODEL_257ccaab39984a6ab37b9b2d5f424ef1"
      }
     },
     "529bcb0cbcc94d6983318c7bc1e5b932": {
      "model_module": "@jupyter-widgets/controls",
      "model_module_version": "1.5.0",
      "model_name": "FloatProgressModel",
      "state": {
       "_dom_classes": [],
       "_model_module": "@jupyter-widgets/controls",
       "_model_module_version": "1.5.0",
       "_model_name": "FloatProgressModel",
       "_view_count": null,
       "_view_module": "@jupyter-widgets/controls",
       "_view_module_version": "1.5.0",
       "_view_name": "ProgressView",
       "bar_style": "success",
       "description": "",
       "description_tooltip": null,
       "layout": "IPY_MODEL_2898fdcb107847118cc813d2b7eaed60",
       "max": 5611844.0,
       "min": 0.0,
       "orientation": "horizontal",
       "style": "IPY_MODEL_bc2bd46158ff469094fbcbc741a0abde",
       "value": 5611844.0
      }
     },
     "6e3d64ad14fd42dba4b3f49e2d6f0062": {
      "model_module": "@jupyter-widgets/controls",
      "model_module_version": "1.5.0",
      "model_name": "HTMLModel",
      "state": {
       "_dom_classes": [],
       "_model_module": "@jupyter-widgets/controls",
       "_model_module_version": "1.5.0",
       "_model_name": "HTMLModel",
       "_view_count": null,
       "_view_module": "@jupyter-widgets/controls",
       "_view_module_version": "1.5.0",
       "_view_name": "HTMLView",
       "description": "",
       "description_tooltip": null,
       "layout": "IPY_MODEL_b85b08ea2f6044559d312f61e436d559",
       "placeholder": "​",
       "style": "IPY_MODEL_d409e56d04e74ebcbab8a4471b16c84e",
       "value": "100%"
      }
     },
     "75d36c90ec7a4d05955fbb5dd11922f7": {
      "model_module": "@jupyter-widgets/base",
      "model_module_version": "1.2.0",
      "model_name": "LayoutModel",
      "state": {
       "_model_module": "@jupyter-widgets/base",
       "_model_module_version": "1.2.0",
       "_model_name": "LayoutModel",
       "_view_count": null,
       "_view_module": "@jupyter-widgets/base",
       "_view_module_version": "1.2.0",
       "_view_name": "LayoutView",
       "align_content": null,
       "align_items": null,
       "align_self": null,
       "border": null,
       "bottom": null,
       "display": null,
       "flex": null,
       "flex_flow": null,
       "grid_area": null,
       "grid_auto_columns": null,
       "grid_auto_flow": null,
       "grid_auto_rows": null,
       "grid_column": null,
       "grid_gap": null,
       "grid_row": null,
       "grid_template_areas": null,
       "grid_template_columns": null,
       "grid_template_rows": null,
       "height": null,
       "justify_content": null,
       "justify_items": null,
       "left": null,
       "margin": null,
       "max_height": null,
       "max_width": null,
       "min_height": null,
       "min_width": null,
       "object_fit": null,
       "object_position": null,
       "order": null,
       "overflow": null,
       "overflow_x": null,
       "overflow_y": null,
       "padding": null,
       "right": null,
       "top": null,
       "visibility": null,
       "width": null
      }
     },
     "7ddcc1920730437ca492513fbedb3693": {
      "model_module": "@jupyter-widgets/controls",
      "model_module_version": "1.5.0",
      "model_name": "DescriptionStyleModel",
      "state": {
       "_model_module": "@jupyter-widgets/controls",
       "_model_module_version": "1.5.0",
       "_model_name": "DescriptionStyleModel",
       "_view_count": null,
       "_view_module": "@jupyter-widgets/base",
       "_view_module_version": "1.2.0",
       "_view_name": "StyleView",
       "description_width": ""
      }
     },
     "81f7dffeae114fe09cdce9e72a0ac5cf": {
      "model_module": "@jupyter-widgets/base",
      "model_module_version": "1.2.0",
      "model_name": "LayoutModel",
      "state": {
       "_model_module": "@jupyter-widgets/base",
       "_model_module_version": "1.2.0",
       "_model_name": "LayoutModel",
       "_view_count": null,
       "_view_module": "@jupyter-widgets/base",
       "_view_module_version": "1.2.0",
       "_view_name": "LayoutView",
       "align_content": null,
       "align_items": null,
       "align_self": null,
       "border": null,
       "bottom": null,
       "display": null,
       "flex": null,
       "flex_flow": null,
       "grid_area": null,
       "grid_auto_columns": null,
       "grid_auto_flow": null,
       "grid_auto_rows": null,
       "grid_column": null,
       "grid_gap": null,
       "grid_row": null,
       "grid_template_areas": null,
       "grid_template_columns": null,
       "grid_template_rows": null,
       "height": null,
       "justify_content": null,
       "justify_items": null,
       "left": null,
       "margin": null,
       "max_height": null,
       "max_width": null,
       "min_height": null,
       "min_width": null,
       "object_fit": null,
       "object_position": null,
       "order": null,
       "overflow": null,
       "overflow_x": null,
       "overflow_y": null,
       "padding": null,
       "right": null,
       "top": null,
       "visibility": null,
       "width": null
      }
     },
     "875aef595d1a46b98643164909b4c2f3": {
      "model_module": "@jupyter-widgets/controls",
      "model_module_version": "1.5.0",
      "model_name": "HBoxModel",
      "state": {
       "_dom_classes": [],
       "_model_module": "@jupyter-widgets/controls",
       "_model_module_version": "1.5.0",
       "_model_name": "HBoxModel",
       "_view_count": null,
       "_view_module": "@jupyter-widgets/controls",
       "_view_module_version": "1.5.0",
       "_view_name": "HBoxView",
       "box_style": "",
       "children": [
        "IPY_MODEL_a3bf7e3593c64ce1ac9cc4dc83e98906",
        "IPY_MODEL_deb7ba1dd9e7402896b22c5b7dea787b",
        "IPY_MODEL_e98cd9d7f67d4df7b5697d93a931f1c4"
       ],
       "layout": "IPY_MODEL_81f7dffeae114fe09cdce9e72a0ac5cf"
      }
     },
     "8e948f9b58f242e4b843abdfa735ae02": {
      "model_module": "@jupyter-widgets/controls",
      "model_module_version": "1.5.0",
      "model_name": "ProgressStyleModel",
      "state": {
       "_model_module": "@jupyter-widgets/controls",
       "_model_module_version": "1.5.0",
       "_model_name": "ProgressStyleModel",
       "_view_count": null,
       "_view_module": "@jupyter-widgets/base",
       "_view_module_version": "1.2.0",
       "_view_name": "StyleView",
       "bar_color": null,
       "description_width": ""
      }
     },
     "8f03c2286be54d8685a0cd1857de23b5": {
      "model_module": "@jupyter-widgets/controls",
      "model_module_version": "1.5.0",
      "model_name": "DescriptionStyleModel",
      "state": {
       "_model_module": "@jupyter-widgets/controls",
       "_model_module_version": "1.5.0",
       "_model_name": "DescriptionStyleModel",
       "_view_count": null,
       "_view_module": "@jupyter-widgets/base",
       "_view_module_version": "1.2.0",
       "_view_name": "StyleView",
       "description_width": ""
      }
     },
     "993785b9028b4762ba247aca5db7651a": {
      "model_module": "@jupyter-widgets/base",
      "model_module_version": "1.2.0",
      "model_name": "LayoutModel",
      "state": {
       "_model_module": "@jupyter-widgets/base",
       "_model_module_version": "1.2.0",
       "_model_name": "LayoutModel",
       "_view_count": null,
       "_view_module": "@jupyter-widgets/base",
       "_view_module_version": "1.2.0",
       "_view_name": "LayoutView",
       "align_content": null,
       "align_items": null,
       "align_self": null,
       "border": null,
       "bottom": null,
       "display": null,
       "flex": null,
       "flex_flow": null,
       "grid_area": null,
       "grid_auto_columns": null,
       "grid_auto_flow": null,
       "grid_auto_rows": null,
       "grid_column": null,
       "grid_gap": null,
       "grid_row": null,
       "grid_template_areas": null,
       "grid_template_columns": null,
       "grid_template_rows": null,
       "height": null,
       "justify_content": null,
       "justify_items": null,
       "left": null,
       "margin": null,
       "max_height": null,
       "max_width": null,
       "min_height": null,
       "min_width": null,
       "object_fit": null,
       "object_position": null,
       "order": null,
       "overflow": null,
       "overflow_x": null,
       "overflow_y": null,
       "padding": null,
       "right": null,
       "top": null,
       "visibility": null,
       "width": null
      }
     },
     "a3bf7e3593c64ce1ac9cc4dc83e98906": {
      "model_module": "@jupyter-widgets/controls",
      "model_module_version": "1.5.0",
      "model_name": "HTMLModel",
      "state": {
       "_dom_classes": [],
       "_model_module": "@jupyter-widgets/controls",
       "_model_module_version": "1.5.0",
       "_model_name": "HTMLModel",
       "_view_count": null,
       "_view_module": "@jupyter-widgets/controls",
       "_view_module_version": "1.5.0",
       "_view_name": "HTMLView",
       "description": "",
       "description_tooltip": null,
       "layout": "IPY_MODEL_06c9454d5f514347a2ecfb7741dba04f",
       "placeholder": "​",
       "style": "IPY_MODEL_ca262c94fac941e587d97e1c56671aca",
       "value": "100%"
      }
     },
     "b809ad5843034757bea9aa9327e252b5": {
      "model_module": "@jupyter-widgets/controls",
      "model_module_version": "1.5.0",
      "model_name": "HTMLModel",
      "state": {
       "_dom_classes": [],
       "_model_module": "@jupyter-widgets/controls",
       "_model_module_version": "1.5.0",
       "_model_name": "HTMLModel",
       "_view_count": null,
       "_view_module": "@jupyter-widgets/controls",
       "_view_module_version": "1.5.0",
       "_view_name": "HTMLView",
       "description": "",
       "description_tooltip": null,
       "layout": "IPY_MODEL_1e85cc692e9c42ba9ba278d3acfbb33a",
       "placeholder": "​",
       "style": "IPY_MODEL_8f03c2286be54d8685a0cd1857de23b5",
       "value": "100%"
      }
     },
     "b85b08ea2f6044559d312f61e436d559": {
      "model_module": "@jupyter-widgets/base",
      "model_module_version": "1.2.0",
      "model_name": "LayoutModel",
      "state": {
       "_model_module": "@jupyter-widgets/base",
       "_model_module_version": "1.2.0",
       "_model_name": "LayoutModel",
       "_view_count": null,
       "_view_module": "@jupyter-widgets/base",
       "_view_module_version": "1.2.0",
       "_view_name": "LayoutView",
       "align_content": null,
       "align_items": null,
       "align_self": null,
       "border": null,
       "bottom": null,
       "display": null,
       "flex": null,
       "flex_flow": null,
       "grid_area": null,
       "grid_auto_columns": null,
       "grid_auto_flow": null,
       "grid_auto_rows": null,
       "grid_column": null,
       "grid_gap": null,
       "grid_row": null,
       "grid_template_areas": null,
       "grid_template_columns": null,
       "grid_template_rows": null,
       "height": null,
       "justify_content": null,
       "justify_items": null,
       "left": null,
       "margin": null,
       "max_height": null,
       "max_width": null,
       "min_height": null,
       "min_width": null,
       "object_fit": null,
       "object_position": null,
       "order": null,
       "overflow": null,
       "overflow_x": null,
       "overflow_y": null,
       "padding": null,
       "right": null,
       "top": null,
       "visibility": null,
       "width": null
      }
     },
     "b9983380a9c543c9947dc093b0ac7e35": {
      "model_module": "@jupyter-widgets/controls",
      "model_module_version": "1.5.0",
      "model_name": "HTMLModel",
      "state": {
       "_dom_classes": [],
       "_model_module": "@jupyter-widgets/controls",
       "_model_module_version": "1.5.0",
       "_model_name": "HTMLModel",
       "_view_count": null,
       "_view_module": "@jupyter-widgets/controls",
       "_view_module_version": "1.5.0",
       "_view_name": "HTMLView",
       "description": "",
       "description_tooltip": null,
       "layout": "IPY_MODEL_24e4d8333cb440d78abe04dee4188200",
       "placeholder": "​",
       "style": "IPY_MODEL_7ddcc1920730437ca492513fbedb3693",
       "value": " 332376/332376 [00:38&lt;00:00, 9848.85it/s]"
      }
     },
     "bc2bd46158ff469094fbcbc741a0abde": {
      "model_module": "@jupyter-widgets/controls",
      "model_module_version": "1.5.0",
      "model_name": "ProgressStyleModel",
      "state": {
       "_model_module": "@jupyter-widgets/controls",
       "_model_module_version": "1.5.0",
       "_model_name": "ProgressStyleModel",
       "_view_count": null,
       "_view_module": "@jupyter-widgets/base",
       "_view_module_version": "1.2.0",
       "_view_name": "StyleView",
       "bar_color": null,
       "description_width": ""
      }
     },
     "c1e1cc61e4a447cdbf7a7197904808f1": {
      "model_module": "@jupyter-widgets/controls",
      "model_module_version": "1.5.0",
      "model_name": "HTMLModel",
      "state": {
       "_dom_classes": [],
       "_model_module": "@jupyter-widgets/controls",
       "_model_module_version": "1.5.0",
       "_model_name": "HTMLModel",
       "_view_count": null,
       "_view_module": "@jupyter-widgets/controls",
       "_view_module_version": "1.5.0",
       "_view_name": "HTMLView",
       "description": "",
       "description_tooltip": null,
       "layout": "IPY_MODEL_75d36c90ec7a4d05955fbb5dd11922f7",
       "placeholder": "​",
       "style": "IPY_MODEL_3557c373c1d0452bac5f3a31507f9236",
       "value": " 5611844/5611844 [10:43&lt;00:00, 9181.20it/s]"
      }
     },
     "ca262c94fac941e587d97e1c56671aca": {
      "model_module": "@jupyter-widgets/controls",
      "model_module_version": "1.5.0",
      "model_name": "DescriptionStyleModel",
      "state": {
       "_model_module": "@jupyter-widgets/controls",
       "_model_module_version": "1.5.0",
       "_model_name": "DescriptionStyleModel",
       "_view_count": null,
       "_view_module": "@jupyter-widgets/base",
       "_view_module_version": "1.2.0",
       "_view_name": "StyleView",
       "description_width": ""
      }
     },
     "d409e56d04e74ebcbab8a4471b16c84e": {
      "model_module": "@jupyter-widgets/controls",
      "model_module_version": "1.5.0",
      "model_name": "DescriptionStyleModel",
      "state": {
       "_model_module": "@jupyter-widgets/controls",
       "_model_module_version": "1.5.0",
       "_model_name": "DescriptionStyleModel",
       "_view_count": null,
       "_view_module": "@jupyter-widgets/base",
       "_view_module_version": "1.2.0",
       "_view_name": "StyleView",
       "description_width": ""
      }
     },
     "deb7ba1dd9e7402896b22c5b7dea787b": {
      "model_module": "@jupyter-widgets/controls",
      "model_module_version": "1.5.0",
      "model_name": "FloatProgressModel",
      "state": {
       "_dom_classes": [],
       "_model_module": "@jupyter-widgets/controls",
       "_model_module_version": "1.5.0",
       "_model_name": "FloatProgressModel",
       "_view_count": null,
       "_view_module": "@jupyter-widgets/controls",
       "_view_module_version": "1.5.0",
       "_view_name": "ProgressView",
       "bar_style": "success",
       "description": "",
       "description_tooltip": null,
       "layout": "IPY_MODEL_21937e3b554b4c3891ffc96ba4cf1799",
       "max": 83094.0,
       "min": 0.0,
       "orientation": "horizontal",
       "style": "IPY_MODEL_dede9ce880f24a79809b5b77f2a9446a",
       "value": 83094.0
      }
     },
     "dede9ce880f24a79809b5b77f2a9446a": {
      "model_module": "@jupyter-widgets/controls",
      "model_module_version": "1.5.0",
      "model_name": "ProgressStyleModel",
      "state": {
       "_model_module": "@jupyter-widgets/controls",
       "_model_module_version": "1.5.0",
       "_model_name": "ProgressStyleModel",
       "_view_count": null,
       "_view_module": "@jupyter-widgets/base",
       "_view_module_version": "1.2.0",
       "_view_name": "StyleView",
       "bar_color": null,
       "description_width": ""
      }
     },
     "e98cd9d7f67d4df7b5697d93a931f1c4": {
      "model_module": "@jupyter-widgets/controls",
      "model_module_version": "1.5.0",
      "model_name": "HTMLModel",
      "state": {
       "_dom_classes": [],
       "_model_module": "@jupyter-widgets/controls",
       "_model_module_version": "1.5.0",
       "_model_name": "HTMLModel",
       "_view_count": null,
       "_view_module": "@jupyter-widgets/controls",
       "_view_module_version": "1.5.0",
       "_view_name": "HTMLView",
       "description": "",
       "description_tooltip": null,
       "layout": "IPY_MODEL_993785b9028b4762ba247aca5db7651a",
       "placeholder": "​",
       "style": "IPY_MODEL_4b897ca3315b4718877f07744242fba7",
       "value": " 83094/83094 [00:09&lt;00:00, 8869.88it/s]"
      }
     },
     "f5ed1f9ec64048c2a81af370e2a7ae9a": {
      "model_module": "@jupyter-widgets/controls",
      "model_module_version": "1.5.0",
      "model_name": "FloatProgressModel",
      "state": {
       "_dom_classes": [],
       "_model_module": "@jupyter-widgets/controls",
       "_model_module_version": "1.5.0",
       "_model_name": "FloatProgressModel",
       "_view_count": null,
       "_view_module": "@jupyter-widgets/controls",
       "_view_module_version": "1.5.0",
       "_view_name": "ProgressView",
       "bar_style": "success",
       "description": "",
       "description_tooltip": null,
       "layout": "IPY_MODEL_3f2a1b47dd714495addcc859dcdbc34b",
       "max": 332376.0,
       "min": 0.0,
       "orientation": "horizontal",
       "style": "IPY_MODEL_8e948f9b58f242e4b843abdfa735ae02",
       "value": 332376.0
      }
     }
    },
    "version_major": 2,
    "version_minor": 0
   }
  }
 },
 "nbformat": 4,
 "nbformat_minor": 5
}
