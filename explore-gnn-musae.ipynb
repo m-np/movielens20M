{
 "cells": [
  {
   "cell_type": "markdown",
   "id": "6b878f65",
   "metadata": {
    "papermill": {
     "duration": 0.00382,
     "end_time": "2023-12-16T06:30:33.196345",
     "exception": false,
     "start_time": "2023-12-16T06:30:33.192525",
     "status": "completed"
    },
    "tags": []
   },
   "source": [
    "## Install pytorch geometric for running GNN\n",
    "\n",
    "This NB is not an original creation but a copy from the following [link](https://www.kaggle.com/code/awadelrahman/tutorial-graph-neural-networks-on-social-networks) to understand how the GNN code works"
   ]
  },
  {
   "cell_type": "code",
   "execution_count": 1,
   "id": "9b6b6c70",
   "metadata": {
    "execution": {
     "iopub.execute_input": "2023-12-16T06:30:33.205058Z",
     "iopub.status.busy": "2023-12-16T06:30:33.204631Z",
     "iopub.status.idle": "2023-12-16T06:30:50.196071Z",
     "shell.execute_reply": "2023-12-16T06:30:50.194857Z"
    },
    "papermill": {
     "duration": 16.999532,
     "end_time": "2023-12-16T06:30:50.199341",
     "exception": false,
     "start_time": "2023-12-16T06:30:33.199809",
     "status": "completed"
    },
    "tags": []
   },
   "outputs": [
    {
     "name": "stdout",
     "output_type": "stream",
     "text": [
      "Collecting torch-geometric\r\n",
      "  Obtaining dependency information for torch-geometric from https://files.pythonhosted.org/packages/65/4e/6f9a75548a93fedcd4514ae2de9bee1e91bade6b73252b4da32f0e42ac52/torch_geometric-2.4.0-py3-none-any.whl.metadata\r\n",
      "  Downloading torch_geometric-2.4.0-py3-none-any.whl.metadata (63 kB)\r\n",
      "\u001b[2K     \u001b[90m━━━━━━━━━━━━━━━━━━━━━━━━━━━━━━━━━━━━━━━━\u001b[0m \u001b[32m63.9/63.9 kB\u001b[0m \u001b[31m3.2 MB/s\u001b[0m eta \u001b[36m0:00:00\u001b[0m\r\n",
      "\u001b[?25hRequirement already satisfied: tqdm in /opt/conda/lib/python3.10/site-packages (from torch-geometric) (4.66.1)\r\n",
      "Requirement already satisfied: numpy in /opt/conda/lib/python3.10/site-packages (from torch-geometric) (1.24.3)\r\n",
      "Requirement already satisfied: scipy in /opt/conda/lib/python3.10/site-packages (from torch-geometric) (1.11.4)\r\n",
      "Requirement already satisfied: jinja2 in /opt/conda/lib/python3.10/site-packages (from torch-geometric) (3.1.2)\r\n",
      "Requirement already satisfied: requests in /opt/conda/lib/python3.10/site-packages (from torch-geometric) (2.31.0)\r\n",
      "Requirement already satisfied: pyparsing in /opt/conda/lib/python3.10/site-packages (from torch-geometric) (3.0.9)\r\n",
      "Requirement already satisfied: scikit-learn in /opt/conda/lib/python3.10/site-packages (from torch-geometric) (1.2.2)\r\n",
      "Requirement already satisfied: psutil>=5.8.0 in /opt/conda/lib/python3.10/site-packages (from torch-geometric) (5.9.3)\r\n",
      "Requirement already satisfied: MarkupSafe>=2.0 in /opt/conda/lib/python3.10/site-packages (from jinja2->torch-geometric) (2.1.3)\r\n",
      "Requirement already satisfied: charset-normalizer<4,>=2 in /opt/conda/lib/python3.10/site-packages (from requests->torch-geometric) (3.2.0)\r\n",
      "Requirement already satisfied: idna<4,>=2.5 in /opt/conda/lib/python3.10/site-packages (from requests->torch-geometric) (3.4)\r\n",
      "Requirement already satisfied: urllib3<3,>=1.21.1 in /opt/conda/lib/python3.10/site-packages (from requests->torch-geometric) (1.26.15)\r\n",
      "Requirement already satisfied: certifi>=2017.4.17 in /opt/conda/lib/python3.10/site-packages (from requests->torch-geometric) (2023.11.17)\r\n",
      "Requirement already satisfied: joblib>=1.1.1 in /opt/conda/lib/python3.10/site-packages (from scikit-learn->torch-geometric) (1.3.2)\r\n",
      "Requirement already satisfied: threadpoolctl>=2.0.0 in /opt/conda/lib/python3.10/site-packages (from scikit-learn->torch-geometric) (3.2.0)\r\n",
      "Downloading torch_geometric-2.4.0-py3-none-any.whl (1.0 MB)\r\n",
      "\u001b[2K   \u001b[90m━━━━━━━━━━━━━━━━━━━━━━━━━━━━━━━━━━━━━━━━\u001b[0m \u001b[32m1.0/1.0 MB\u001b[0m \u001b[31m18.2 MB/s\u001b[0m eta \u001b[36m0:00:00\u001b[0m\r\n",
      "\u001b[?25hInstalling collected packages: torch-geometric\r\n",
      "Successfully installed torch-geometric-2.4.0\r\n"
     ]
    }
   ],
   "source": [
    "!pip install torch-geometric"
   ]
  },
  {
   "cell_type": "code",
   "execution_count": 2,
   "id": "26b0c44d",
   "metadata": {
    "_cell_guid": "b1076dfc-b9ad-4769-8c92-a6c4dae69d19",
    "_uuid": "8f2839f25d086af736a60e9eeb907d3b93b6e0e5",
    "execution": {
     "iopub.execute_input": "2023-12-16T06:30:50.210834Z",
     "iopub.status.busy": "2023-12-16T06:30:50.210378Z",
     "iopub.status.idle": "2023-12-16T06:30:59.681221Z",
     "shell.execute_reply": "2023-12-16T06:30:59.680227Z"
    },
    "papermill": {
     "duration": 9.480299,
     "end_time": "2023-12-16T06:30:59.684320",
     "exception": false,
     "start_time": "2023-12-16T06:30:50.204021",
     "status": "completed"
    },
    "tags": []
   },
   "outputs": [],
   "source": [
    "%matplotlib inline\n",
    "\n",
    "import json\n",
    "import collections\n",
    "import numpy as np\n",
    "import pandas as pd\n",
    "\n",
    "import matplotlib\n",
    "import matplotlib.pyplot as plt\n",
    "\n",
    "import torch\n",
    "import torch.nn as nn\n",
    "import torch.nn.functional as F\n",
    "\n",
    "from torch_geometric.data import Data\n",
    "# from torch_geometric.transforms import AddTrainValTestMask as masking\n",
    "from torch_geometric.utils.convert import to_networkx\n",
    "from torch_geometric.nn import GCNConv\n",
    "\n",
    "import networkx as nx"
   ]
  },
  {
   "cell_type": "markdown",
   "id": "26289b21",
   "metadata": {
    "papermill": {
     "duration": 0.004147,
     "end_time": "2023-12-16T06:30:59.692933",
     "exception": false,
     "start_time": "2023-12-16T06:30:59.688786",
     "status": "completed"
    },
    "tags": []
   },
   "source": [
    "## Dataset exploration\n",
    "I assume the dataset files are in a subfolder named data. We read them and plot the top 5 rows and the last 5 rows from the labels file. Even though we see 4 columns but only 2 columns concern us here: id of the node (i.e. user) and ml_target which is 1 if the user is a machine learning community user and 0 otherwise. Now, we are sure that our task is a binary classification problem, as we only have 2 classes."
   ]
  },
  {
   "cell_type": "code",
   "execution_count": 3,
   "id": "82dbf854",
   "metadata": {
    "execution": {
     "iopub.execute_input": "2023-12-16T06:30:59.708668Z",
     "iopub.status.busy": "2023-12-16T06:30:59.707582Z",
     "iopub.status.idle": "2023-12-16T06:31:00.142843Z",
     "shell.execute_reply": "2023-12-16T06:31:00.141613Z"
    },
    "papermill": {
     "duration": 0.44619,
     "end_time": "2023-12-16T06:31:00.145452",
     "exception": false,
     "start_time": "2023-12-16T06:30:59.699262",
     "status": "completed"
    },
    "tags": []
   },
   "outputs": [
    {
     "name": "stdout",
     "output_type": "stream",
     "text": [
      "5 top nodes labels\n",
      "|    |   id | name         |   ml_target |\n",
      "|---:|-----:|:-------------|------------:|\n",
      "|  0 |    0 | Eiryyy       |           0 |\n",
      "|  1 |    1 | shawflying   |           0 |\n",
      "|  2 |    2 | JpMCarrilho  |           1 |\n",
      "|  3 |    3 | SuhwanCha    |           0 |\n",
      "|  4 |    4 | sunilangadi2 |           1 |\n",
      "\n",
      "5 last nodes\n",
      "|       |    id | name           |   ml_target |\n",
      "|------:|------:|:---------------|------------:|\n",
      "| 37695 | 37695 | shawnwanderson |           1 |\n",
      "| 37696 | 37696 | kris-ipeh      |           0 |\n",
      "| 37697 | 37697 | qpautrat       |           0 |\n",
      "| 37698 | 37698 | Injabie3       |           1 |\n",
      "| 37699 | 37699 | caseycavanagh  |           0 |\n"
     ]
    }
   ],
   "source": [
    "with open(\"/kaggle/input/musae-git-features/musae_git_features.json\") as json_data:\n",
    "    data_raw = json.load(json_data)\n",
    "edges=pd.read_csv(\"/kaggle/input/musae-git-edges/musae_git_edges.csv\")\n",
    "target_df=pd.read_csv(\"/kaggle/input/musae-git-target/musae_git_target.csv\")\n",
    "\n",
    "print(\"5 top nodes labels\")\n",
    "print(target_df.head(5).to_markdown())\n",
    "print()\n",
    "print(\"5 last nodes\")\n",
    "print(target_df.tail(5).to_markdown())"
   ]
  },
  {
   "cell_type": "markdown",
   "id": "1bd6dd7e",
   "metadata": {
    "papermill": {
     "duration": 0.004203,
     "end_time": "2023-12-16T06:31:00.154140",
     "exception": false,
     "start_time": "2023-12-16T06:31:00.149937",
     "status": "completed"
    },
    "tags": []
   },
   "source": [
    "Another important property we need to look at the class balance, this is because severe class imbalances may cause the classifier to simply guessing the majority class and not making any evaluation on the underrepresented class. By plotting the histogram (frequency distribution), we see some imbalance as the machine learning (label=1) are fewer than the other classes. This leads to some issues, but let us say, for now, it is not a severe problem.\n",
    "\n",
    "We may also see how nodes are different based on the number of features. The second histogram tells that most of the users have between 15 and about 23 features, and very few of them have more than 30 and less than 5 features. The third histogram shows the most common features accross users, we can see different peaks on the distribution.\n",
    "\n"
   ]
  },
  {
   "cell_type": "code",
   "execution_count": null,
   "id": "6404409a",
   "metadata": {
    "papermill": {
     "duration": 0.00419,
     "end_time": "2023-12-16T06:31:00.162818",
     "exception": false,
     "start_time": "2023-12-16T06:31:00.158628",
     "status": "completed"
    },
    "tags": []
   },
   "outputs": [],
   "source": []
  }
 ],
 "metadata": {
  "kaggle": {
   "accelerator": "none",
   "dataSources": [
    {
     "datasetId": 4113154,
     "sourceId": 7129427,
     "sourceType": "datasetVersion"
    },
    {
     "datasetId": 4112598,
     "sourceId": 7128624,
     "sourceType": "datasetVersion"
    },
    {
     "datasetId": 4112601,
     "sourceId": 7128629,
     "sourceType": "datasetVersion"
    }
   ],
   "dockerImageVersionId": 30626,
   "isGpuEnabled": false,
   "isInternetEnabled": true,
   "language": "python",
   "sourceType": "notebook"
  },
  "kernelspec": {
   "display_name": "Python 3",
   "language": "python",
   "name": "python3"
  },
  "language_info": {
   "codemirror_mode": {
    "name": "ipython",
    "version": 3
   },
   "file_extension": ".py",
   "mimetype": "text/x-python",
   "name": "python",
   "nbconvert_exporter": "python",
   "pygments_lexer": "ipython3",
   "version": "3.10.12"
  },
  "papermill": {
   "default_parameters": {},
   "duration": 31.968113,
   "end_time": "2023-12-16T06:31:01.692094",
   "environment_variables": {},
   "exception": null,
   "input_path": "__notebook__.ipynb",
   "output_path": "__notebook__.ipynb",
   "parameters": {},
   "start_time": "2023-12-16T06:30:29.723981",
   "version": "2.4.0"
  }
 },
 "nbformat": 4,
 "nbformat_minor": 5
}
