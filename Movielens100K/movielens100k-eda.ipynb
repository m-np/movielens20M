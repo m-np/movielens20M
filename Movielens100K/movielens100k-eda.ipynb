{
 "cells": [
  {
   "cell_type": "code",
   "execution_count": 1,
   "id": "a6cd1295",
   "metadata": {
    "_cell_guid": "b1076dfc-b9ad-4769-8c92-a6c4dae69d19",
    "_uuid": "8f2839f25d086af736a60e9eeb907d3b93b6e0e5",
    "execution": {
     "iopub.execute_input": "2024-11-19T07:30:45.071278Z",
     "iopub.status.busy": "2024-11-19T07:30:45.070871Z",
     "iopub.status.idle": "2024-11-19T07:30:50.963041Z",
     "shell.execute_reply": "2024-11-19T07:30:50.962147Z"
    },
    "papermill": {
     "duration": 5.899589,
     "end_time": "2024-11-19T07:30:50.965431",
     "exception": false,
     "start_time": "2024-11-19T07:30:45.065842",
     "status": "completed"
    },
    "tags": []
   },
   "outputs": [],
   "source": [
    "import os\n",
    "import numpy as np # linear algebra\n",
    "import pandas as pd \n",
    "from scipy import sparse\n",
    "from sklearn.model_selection import train_test_split\n",
    "from sklearn.metrics import mean_squared_error,mean_absolute_error\n",
    "import matplotlib.pyplot as plt\n",
    "import seaborn as sns\n",
    "\n",
    "import torch\n",
    "import torch.nn as nn\n",
    "import torch.nn.functional as F\n",
    "from torch.optim import SparseAdam,Adam,Adagrad,SGD\n",
    "#from livelossplot import PlotLosses\n",
    "from tqdm import tqdm"
   ]
  },
  {
   "cell_type": "code",
   "execution_count": 2,
   "id": "44aa0ee0",
   "metadata": {
    "execution": {
     "iopub.execute_input": "2024-11-19T07:30:50.974223Z",
     "iopub.status.busy": "2024-11-19T07:30:50.973742Z",
     "iopub.status.idle": "2024-11-19T07:30:51.107886Z",
     "shell.execute_reply": "2024-11-19T07:30:51.106510Z"
    },
    "papermill": {
     "duration": 0.14085,
     "end_time": "2024-11-19T07:30:51.110434",
     "exception": false,
     "start_time": "2024-11-19T07:30:50.969584",
     "status": "completed"
    },
    "tags": []
   },
   "outputs": [],
   "source": [
    "COLS = ['user_id', 'movie_id', 'rating', 'timestamp']\n",
    "train_data = pd.read_csv(\"/kaggle/input/movielens-100k-dataset/ml-100k/u1.base\",sep='\\t', names=COLS).drop(columns=['timestamp']).astype(int)\n",
    "test_data = pd.read_csv(\"/kaggle/input/movielens-100k-dataset/ml-100k/u1.test\",sep='\\t', names=COLS).drop(columns=['timestamp']).astype(int)\n",
    "n_users, n_items = 1000,2000"
   ]
  },
  {
   "cell_type": "code",
   "execution_count": 3,
   "id": "f031e621",
   "metadata": {
    "execution": {
     "iopub.execute_input": "2024-11-19T07:30:51.117237Z",
     "iopub.status.busy": "2024-11-19T07:30:51.116890Z",
     "iopub.status.idle": "2024-11-19T07:30:51.135008Z",
     "shell.execute_reply": "2024-11-19T07:30:51.133955Z"
    },
    "papermill": {
     "duration": 0.024068,
     "end_time": "2024-11-19T07:30:51.137281",
     "exception": false,
     "start_time": "2024-11-19T07:30:51.113213",
     "status": "completed"
    },
    "tags": []
   },
   "outputs": [
    {
     "data": {
      "text/html": [
       "<div>\n",
       "<style scoped>\n",
       "    .dataframe tbody tr th:only-of-type {\n",
       "        vertical-align: middle;\n",
       "    }\n",
       "\n",
       "    .dataframe tbody tr th {\n",
       "        vertical-align: top;\n",
       "    }\n",
       "\n",
       "    .dataframe thead th {\n",
       "        text-align: right;\n",
       "    }\n",
       "</style>\n",
       "<table border=\"1\" class=\"dataframe\">\n",
       "  <thead>\n",
       "    <tr style=\"text-align: right;\">\n",
       "      <th></th>\n",
       "      <th>user_id</th>\n",
       "      <th>movie_id</th>\n",
       "      <th>rating</th>\n",
       "    </tr>\n",
       "  </thead>\n",
       "  <tbody>\n",
       "    <tr>\n",
       "      <th>0</th>\n",
       "      <td>1</td>\n",
       "      <td>1</td>\n",
       "      <td>5</td>\n",
       "    </tr>\n",
       "    <tr>\n",
       "      <th>1</th>\n",
       "      <td>1</td>\n",
       "      <td>2</td>\n",
       "      <td>3</td>\n",
       "    </tr>\n",
       "    <tr>\n",
       "      <th>2</th>\n",
       "      <td>1</td>\n",
       "      <td>3</td>\n",
       "      <td>4</td>\n",
       "    </tr>\n",
       "    <tr>\n",
       "      <th>3</th>\n",
       "      <td>1</td>\n",
       "      <td>4</td>\n",
       "      <td>3</td>\n",
       "    </tr>\n",
       "    <tr>\n",
       "      <th>4</th>\n",
       "      <td>1</td>\n",
       "      <td>5</td>\n",
       "      <td>3</td>\n",
       "    </tr>\n",
       "    <tr>\n",
       "      <th>...</th>\n",
       "      <td>...</td>\n",
       "      <td>...</td>\n",
       "      <td>...</td>\n",
       "    </tr>\n",
       "    <tr>\n",
       "      <th>79995</th>\n",
       "      <td>943</td>\n",
       "      <td>1067</td>\n",
       "      <td>2</td>\n",
       "    </tr>\n",
       "    <tr>\n",
       "      <th>79996</th>\n",
       "      <td>943</td>\n",
       "      <td>1074</td>\n",
       "      <td>4</td>\n",
       "    </tr>\n",
       "    <tr>\n",
       "      <th>79997</th>\n",
       "      <td>943</td>\n",
       "      <td>1188</td>\n",
       "      <td>3</td>\n",
       "    </tr>\n",
       "    <tr>\n",
       "      <th>79998</th>\n",
       "      <td>943</td>\n",
       "      <td>1228</td>\n",
       "      <td>3</td>\n",
       "    </tr>\n",
       "    <tr>\n",
       "      <th>79999</th>\n",
       "      <td>943</td>\n",
       "      <td>1330</td>\n",
       "      <td>3</td>\n",
       "    </tr>\n",
       "  </tbody>\n",
       "</table>\n",
       "<p>80000 rows × 3 columns</p>\n",
       "</div>"
      ],
      "text/plain": [
       "       user_id  movie_id  rating\n",
       "0            1         1       5\n",
       "1            1         2       3\n",
       "2            1         3       4\n",
       "3            1         4       3\n",
       "4            1         5       3\n",
       "...        ...       ...     ...\n",
       "79995      943      1067       2\n",
       "79996      943      1074       4\n",
       "79997      943      1188       3\n",
       "79998      943      1228       3\n",
       "79999      943      1330       3\n",
       "\n",
       "[80000 rows x 3 columns]"
      ]
     },
     "execution_count": 3,
     "metadata": {},
     "output_type": "execute_result"
    }
   ],
   "source": [
    "train_data"
   ]
  },
  {
   "cell_type": "code",
   "execution_count": 4,
   "id": "c6dcd306",
   "metadata": {
    "execution": {
     "iopub.execute_input": "2024-11-19T07:30:51.144686Z",
     "iopub.status.busy": "2024-11-19T07:30:51.144231Z",
     "iopub.status.idle": "2024-11-19T07:30:51.157758Z",
     "shell.execute_reply": "2024-11-19T07:30:51.156247Z"
    },
    "papermill": {
     "duration": 0.021203,
     "end_time": "2024-11-19T07:30:51.161439",
     "exception": false,
     "start_time": "2024-11-19T07:30:51.140236",
     "status": "completed"
    },
    "tags": []
   },
   "outputs": [
    {
     "data": {
      "text/plain": [
       "1650"
      ]
     },
     "execution_count": 4,
     "metadata": {},
     "output_type": "execute_result"
    }
   ],
   "source": [
    "train_data.movie_id.nunique()"
   ]
  },
  {
   "cell_type": "code",
   "execution_count": 5,
   "id": "375b9e8b",
   "metadata": {
    "execution": {
     "iopub.execute_input": "2024-11-19T07:30:51.172604Z",
     "iopub.status.busy": "2024-11-19T07:30:51.171784Z",
     "iopub.status.idle": "2024-11-19T07:30:51.180200Z",
     "shell.execute_reply": "2024-11-19T07:30:51.179133Z"
    },
    "papermill": {
     "duration": 0.016683,
     "end_time": "2024-11-19T07:30:51.183275",
     "exception": false,
     "start_time": "2024-11-19T07:30:51.166592",
     "status": "completed"
    },
    "tags": []
   },
   "outputs": [],
   "source": [
    "class Matrixfactorization(nn.Module):\n",
    "    def __init__(self, n_users, n_items, n_dim=20):\n",
    "        super().__init__()\n",
    "        self.user_emb = nn.Embedding( n_users, n_dim)\n",
    "        self.item_emb = nn.Embedding( n_items, n_dim)\n",
    "        self.user_emb.weight.data.uniform_(0, 0.05)\n",
    "        self.item_emb.weight.data.uniform_(0, 0.05)\n",
    "        \n",
    "    def forward(self, u, v):\n",
    "        # print(0, u, v)\n",
    "        u = self.user_emb(u)\n",
    "        v = self.item_emb(v)\n",
    "        # print(u.shape, v.shape)\n",
    "        out = (u*v).sum(1)   \n",
    "        # print(1, out.shape)\n",
    "        return out"
   ]
  },
  {
   "cell_type": "code",
   "execution_count": 6,
   "id": "677972fe",
   "metadata": {
    "execution": {
     "iopub.execute_input": "2024-11-19T07:30:51.198355Z",
     "iopub.status.busy": "2024-11-19T07:30:51.197812Z",
     "iopub.status.idle": "2024-11-19T07:30:51.210046Z",
     "shell.execute_reply": "2024-11-19T07:30:51.208958Z"
    },
    "papermill": {
     "duration": 0.022622,
     "end_time": "2024-11-19T07:30:51.212553",
     "exception": false,
     "start_time": "2024-11-19T07:30:51.189931",
     "status": "completed"
    },
    "tags": []
   },
   "outputs": [],
   "source": [
    "def train_epocs(model, train_data, epochs=10, lr=1e-3, wd=0.0, unsqueeze=False):\n",
    "    optimizer = torch.optim.Adam(model.parameters(), lr=lr, weight_decay=wd)\n",
    "    avg = []\n",
    "    states = {}\n",
    "    model.train()\n",
    "    for i in tqdm(range(epochs)):\n",
    "        for it in range(len(train_data)//BATCH_SIZE):\n",
    "            #---------------SETUP BATCH DATA-------------\n",
    "            df = train_data.sample(frac=BATCH_SIZE/len(train_data))\n",
    "            users = torch.LongTensor(df.user_id.values) # .cuda()\n",
    "            items = torch.LongTensor(df.movie_id.values) #.cuda()\n",
    "            ratings = torch.FloatTensor(df.rating.values) #.cuda()\n",
    "            if unsqueeze:\n",
    "                ratings = ratings.unsqueeze(1)\n",
    "            y_hat = model(users, items)\n",
    "            loss = F.mse_loss(y_hat, ratings)\n",
    "            optimizer.zero_grad()\n",
    "            loss.backward()\n",
    "            optimizer.step()\n",
    "            avg.append(loss.item())\n",
    "            # print(loss.item()) \n",
    "        print(f\"EPOCH {i+1}:\",sum(avg)/len(avg))\n",
    "        avg = []\n",
    "        states[i+1] = model.state_dict()"
   ]
  },
  {
   "cell_type": "code",
   "execution_count": 7,
   "id": "e94808c8",
   "metadata": {
    "execution": {
     "iopub.execute_input": "2024-11-19T07:30:51.223199Z",
     "iopub.status.busy": "2024-11-19T07:30:51.222593Z",
     "iopub.status.idle": "2024-11-19T07:30:51.232929Z",
     "shell.execute_reply": "2024-11-19T07:30:51.231642Z"
    },
    "papermill": {
     "duration": 0.020348,
     "end_time": "2024-11-19T07:30:51.236079",
     "exception": false,
     "start_time": "2024-11-19T07:30:51.215731",
     "status": "completed"
    },
    "tags": []
   },
   "outputs": [],
   "source": [
    "def test_loss(model, test_data, unsqueeze=False):\n",
    "    model.eval()\n",
    "    users = torch.LongTensor(test_data.user_id.values) #.cuda()\n",
    "    items = torch.LongTensor(test_data.movie_id.values) #.cuda()\n",
    "    ratings = torch.FloatTensor(test_data.rating.values) #.cuda()\n",
    "    if unsqueeze:\n",
    "        ratings = ratings.unsqueeze(1)\n",
    "    y_hat = model(users, items)\n",
    "    loss = F.mse_loss(y_hat, ratings)\n",
    "    print(\"test loss %.3f \" % loss.item())"
   ]
  },
  {
   "cell_type": "code",
   "execution_count": 8,
   "id": "9a06ee58",
   "metadata": {
    "execution": {
     "iopub.execute_input": "2024-11-19T07:30:51.249492Z",
     "iopub.status.busy": "2024-11-19T07:30:51.249002Z",
     "iopub.status.idle": "2024-11-19T07:32:12.755735Z",
     "shell.execute_reply": "2024-11-19T07:32:12.754681Z"
    },
    "papermill": {
     "duration": 81.51607,
     "end_time": "2024-11-19T07:32:12.758119",
     "exception": false,
     "start_time": "2024-11-19T07:30:51.242049",
     "status": "completed"
    },
    "tags": []
   },
   "outputs": [
    {
     "name": "stdout",
     "output_type": "stream",
     "text": [
      "Matrixfactorization(\n",
      "  (user_emb): Embedding(1000, 20)\n",
      "  (item_emb): Embedding(2000, 20)\n",
      ")\n"
     ]
    },
    {
     "name": "stderr",
     "output_type": "stream",
     "text": [
      " 10%|█         | 1/10 [00:08<01:13,  8.16s/it]"
     ]
    },
    {
     "name": "stdout",
     "output_type": "stream",
     "text": [
      "EPOCH 1: 106.0292085407257\n"
     ]
    },
    {
     "name": "stderr",
     "output_type": "stream",
     "text": [
      " 20%|██        | 2/10 [00:16<01:04,  8.05s/it]"
     ]
    },
    {
     "name": "stdout",
     "output_type": "stream",
     "text": [
      "EPOCH 2: 87.8136522693634\n"
     ]
    },
    {
     "name": "stderr",
     "output_type": "stream",
     "text": [
      " 30%|███       | 3/10 [00:24<00:56,  8.08s/it]"
     ]
    },
    {
     "name": "stdout",
     "output_type": "stream",
     "text": [
      "EPOCH 3: 93.07011737632752\n"
     ]
    },
    {
     "name": "stderr",
     "output_type": "stream",
     "text": [
      " 40%|████      | 4/10 [00:32<00:48,  8.12s/it]"
     ]
    },
    {
     "name": "stdout",
     "output_type": "stream",
     "text": [
      "EPOCH 4: 85.55709312820434\n"
     ]
    },
    {
     "name": "stderr",
     "output_type": "stream",
     "text": [
      " 50%|█████     | 5/10 [00:40<00:40,  8.16s/it]"
     ]
    },
    {
     "name": "stdout",
     "output_type": "stream",
     "text": [
      "EPOCH 5: 86.23493764343262\n"
     ]
    },
    {
     "name": "stderr",
     "output_type": "stream",
     "text": [
      " 60%|██████    | 6/10 [00:48<00:32,  8.03s/it]"
     ]
    },
    {
     "name": "stdout",
     "output_type": "stream",
     "text": [
      "EPOCH 6: 89.98783042945861\n"
     ]
    },
    {
     "name": "stderr",
     "output_type": "stream",
     "text": [
      " 70%|███████   | 7/10 [00:56<00:24,  8.02s/it]"
     ]
    },
    {
     "name": "stdout",
     "output_type": "stream",
     "text": [
      "EPOCH 7: 87.9396920463562\n"
     ]
    },
    {
     "name": "stderr",
     "output_type": "stream",
     "text": [
      " 80%|████████  | 8/10 [01:04<00:15,  7.98s/it]"
     ]
    },
    {
     "name": "stdout",
     "output_type": "stream",
     "text": [
      "EPOCH 8: 94.84231297340393\n"
     ]
    },
    {
     "name": "stderr",
     "output_type": "stream",
     "text": [
      " 90%|█████████ | 9/10 [01:12<00:07,  7.97s/it]"
     ]
    },
    {
     "name": "stdout",
     "output_type": "stream",
     "text": [
      "EPOCH 9: 92.47773809318542\n"
     ]
    },
    {
     "name": "stderr",
     "output_type": "stream",
     "text": [
      "100%|██████████| 10/10 [01:20<00:00,  8.00s/it]"
     ]
    },
    {
     "name": "stdout",
     "output_type": "stream",
     "text": [
      "EPOCH 10: 92.20681475753784\n",
      "test loss 74.020 \n"
     ]
    },
    {
     "name": "stderr",
     "output_type": "stream",
     "text": [
      "\n"
     ]
    }
   ],
   "source": [
    "BATCH_SIZE = 32\n",
    "model = Matrixfactorization(n_users,n_items)\n",
    "print(model)\n",
    "train_epocs(model, train_data, epochs=10, lr=0.1)\n",
    "test_loss(model, test_data, )"
   ]
  },
  {
   "cell_type": "code",
   "execution_count": null,
   "id": "83944602",
   "metadata": {
    "papermill": {
     "duration": 0.005226,
     "end_time": "2024-11-19T07:32:12.768898",
     "exception": false,
     "start_time": "2024-11-19T07:32:12.763672",
     "status": "completed"
    },
    "tags": []
   },
   "outputs": [],
   "source": []
  }
 ],
 "metadata": {
  "kaggle": {
   "accelerator": "none",
   "dataSources": [
    {
     "datasetId": 626,
     "sourceId": 1187,
     "sourceType": "datasetVersion"
    }
   ],
   "dockerImageVersionId": 30786,
   "isGpuEnabled": false,
   "isInternetEnabled": true,
   "language": "python",
   "sourceType": "notebook"
  },
  "kernelspec": {
   "display_name": "Python 3",
   "language": "python",
   "name": "python3"
  },
  "language_info": {
   "codemirror_mode": {
    "name": "ipython",
    "version": 3
   },
   "file_extension": ".py",
   "mimetype": "text/x-python",
   "name": "python",
   "nbconvert_exporter": "python",
   "pygments_lexer": "ipython3",
   "version": "3.10.14"
  },
  "papermill": {
   "default_parameters": {},
   "duration": 91.629416,
   "end_time": "2024-11-19T07:32:14.098045",
   "environment_variables": {},
   "exception": null,
   "input_path": "__notebook__.ipynb",
   "output_path": "__notebook__.ipynb",
   "parameters": {},
   "start_time": "2024-11-19T07:30:42.468629",
   "version": "2.6.0"
  }
 },
 "nbformat": 4,
 "nbformat_minor": 5
}
